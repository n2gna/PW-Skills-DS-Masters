{
 "cells": [
  {
   "cell_type": "code",
   "execution_count": 6,
   "id": "f5e64ad1",
   "metadata": {},
   "outputs": [
    {
     "name": "stdout",
     "output_type": "stream",
     "text": [
      "merc\n",
      "200\n",
      "100\n"
     ]
    }
   ],
   "source": [
    "#Q1. Create a vehicle class with an init method having instance variables as name_of_vehicle, max_speed and average_of_vehicle.\n",
    "\n",
    "class vehicle:\n",
    "    def __init__(self, name_of_vehicle, max_speed, average_of_vehicle):\n",
    "        self.name = name_of_vehicle\n",
    "        self.maxspeed = max_speed \n",
    "        self.avgspeed = average_of_vehicle\n",
    "\n",
    "        \n",
    "car = vehicle('merc', 200, 100)\n",
    "\n",
    "print(car.name)\n",
    "print(car.maxspeed)\n",
    "print(car.avgspeed)\n"
   ]
  },
  {
   "cell_type": "code",
   "execution_count": 41,
   "id": "184e9f4d",
   "metadata": {},
   "outputs": [
    {
     "name": "stdout",
     "output_type": "stream",
     "text": [
      "('merc', 5)\n"
     ]
    }
   ],
   "source": [
    "'''Q2.  Create a child class car from the vehicle class created in Que 1, which will inherit the vehicle class. Create a method named seating_capacity\n",
    "which takes capacity as an argument and returns the name of the vehicle and its seating capacity.'''\n",
    "\n",
    "class vehicle:\n",
    "    def __init__(self, name_of_vehicle, max_speed, average_of_vehicle):\n",
    "        self.name = name_of_vehicle\n",
    "        self.maxspeed = max_speed \n",
    "        self.avgspeed = average_of_vehicle\n",
    "\n",
    "class car(vehicle):\n",
    "    def seating_capacity(self, capacity):\n",
    "        return self.name, capacity\n",
    "    \n",
    "mycar = car('merc', 200, 100)\n",
    "print(mycar.seating_capacity(5))\n"
   ]
  },
  {
   "cell_type": "code",
   "execution_count": 15,
   "id": "d74cf884",
   "metadata": {},
   "outputs": [
    {
     "name": "stdout",
     "output_type": "stream",
     "text": [
      "The dog's name is Thor.\n",
      "The dog is running.\n",
      "The dog's owner is John.\n"
     ]
    }
   ],
   "source": [
    "#Q3. What is multiple inheritance? Write a python code to demonstrate multiple inheritance.\n",
    "\n",
    "'''In multiple inheritance, a child class inherits from one or more parent classes where the parent classes are distince\n",
    "and do not inherit each other'''\n",
    "\n",
    "class dog:\n",
    "    def name(self):\n",
    "        return \"The dog's name is Thor.\"\n",
    "    \n",
    "class run:\n",
    "    def running(self):\n",
    "        return \"The dog is running.\"\n",
    "    \n",
    "class owner(dog, run):\n",
    "    def owner_name(self):\n",
    "        return \"The dog's owner is John.\"\n",
    "    \n",
    "dog1 = owner()\n",
    "\n",
    "print(dog1.name())\n",
    "print(dog1.running())\n",
    "print(dog1.owner_name())\n"
   ]
  },
  {
   "cell_type": "code",
   "execution_count": 32,
   "id": "6a0a3c2c",
   "metadata": {},
   "outputs": [
    {
     "name": "stdout",
     "output_type": "stream",
     "text": [
      "('Chris', 'Boston')\n",
      "('Chris', 'Austin')\n"
     ]
    }
   ],
   "source": [
    "#Q4. What are getter and setter in python? Create a class and create a getter and a setter method in this class.\n",
    "\n",
    "'''getter and setter methods are used when there are private or protected attributes in a class. getter is used to \n",
    "retrieve and setter is used to set the value of a private/protected attribute'''\n",
    "\n",
    "class worker:\n",
    "    def __init__(self, name, place):\n",
    "        self.name = name\n",
    "        self.__place = place\n",
    "    #getter\n",
    "    @property\n",
    "    def retrieve(self):\n",
    "        return self.name, self.__place\n",
    "    #setter\n",
    "    @retrieve.setter\n",
    "    def set_value(self, place):\n",
    "        self.__place = place\n",
    "        \n",
    "worker1 = worker('Chris', 'Boston')\n",
    "print(worker1.retrieve)\n",
    "\n",
    "worker1.set_value = 'Austin'\n",
    "print(worker1.retrieve)\n"
   ]
  },
  {
   "cell_type": "code",
   "execution_count": 39,
   "id": "cebf0ba5",
   "metadata": {},
   "outputs": [
    {
     "name": "stdout",
     "output_type": "stream",
     "text": [
      "The worker's name is Parker.\n",
      "He works in Chicago. \n",
      "\n",
      "The worker's name is Patrick\n",
      "He works in Chicago.\n"
     ]
    }
   ],
   "source": [
    "#Q5.What is method overriding in python? Write a python code to demonstrate method overriding.\n",
    "\n",
    "'''Method overriding is when a method of a child class is the same as a method in the parent class, the method\n",
    "of the child class overrides the method of the parent class.'''\n",
    "\n",
    "class worker:\n",
    "    def name(self):\n",
    "        return \"The worker's name is Parker.\"\n",
    "    \n",
    "    def workplace(self):\n",
    "        return \"He works in Chicago.\"\n",
    "\n",
    "    \n",
    "class new(worker):\n",
    "    def name(self):\n",
    "        return \"The worker's name is Patrick\"\n",
    "    \n",
    "obj1 = worker()\n",
    "print(obj1.name())\n",
    "print(obj1.workplace(),'\\n')\n",
    "\n",
    "obj2 = new()\n",
    "print(obj2.name())\n",
    "print(obj2.workplace())\n"
   ]
  }
 ],
 "metadata": {
  "kernelspec": {
   "display_name": "Python 3 (ipykernel)",
   "language": "python",
   "name": "python3"
  },
  "language_info": {
   "codemirror_mode": {
    "name": "ipython",
    "version": 3
   },
   "file_extension": ".py",
   "mimetype": "text/x-python",
   "name": "python",
   "nbconvert_exporter": "python",
   "pygments_lexer": "ipython3",
   "version": "3.9.13"
  }
 },
 "nbformat": 4,
 "nbformat_minor": 5
}
