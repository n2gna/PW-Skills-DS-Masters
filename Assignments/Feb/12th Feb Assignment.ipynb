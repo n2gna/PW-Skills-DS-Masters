{
 "cells": [
  {
   "cell_type": "code",
   "execution_count": null,
   "id": "e6505b7e",
   "metadata": {},
   "outputs": [],
   "source": [
    "#Q1. What is an Exception in Python? Write the difference between Exceptions and Syntax Errors.\n",
    "\n",
    "'''\n",
    "An Exception is an error that occurs during the execution of a program when Python is unable to proceed\n",
    "further with the program.\n",
    "Syntax errors occur during compile time as the interpreter is not able to understand the code. \n",
    "Exceptions are logical errors that occur during runtime.\n",
    "'''\n",
    "\n"
   ]
  },
  {
   "cell_type": "code",
   "execution_count": 9,
   "id": "f7d80da9",
   "metadata": {},
   "outputs": [
    {
     "name": "stdout",
     "output_type": "stream",
     "text": [
      "division by zero\n",
      "This is the last line of the program\n"
     ]
    }
   ],
   "source": [
    "#Q2. What happens when an Exception is not handled? Explain with an example.\n",
    "\n",
    "'When an Exception is not handled, the program crashes and an error message is displayed.'\n",
    "\n",
    "try:\n",
    "    n = 20\n",
    "    print(n/0)\n",
    "except ZeroDivisionError as e:\n",
    "    print(e)\n",
    "\n",
    "print('This is the last line of the program')\n"
   ]
  },
  {
   "cell_type": "code",
   "execution_count": 19,
   "id": "e9a05482",
   "metadata": {},
   "outputs": [
    {
     "name": "stdout",
     "output_type": "stream",
     "text": [
      "name 'x' is not defined\n"
     ]
    }
   ],
   "source": [
    "#Q3. Which Python statements are used to catch and handle exceptions? Explain with an example.\n",
    "\n",
    "'try and except statements are used to catch and handle Python statements.'\n",
    "\n",
    "try:\n",
    "    z = 100\n",
    "    print(x)\n",
    "except NameError as e:\n",
    "    print(e)\n",
    "\n"
   ]
  },
  {
   "cell_type": "code",
   "execution_count": 24,
   "id": "4b539d83",
   "metadata": {},
   "outputs": [
    {
     "name": "stdout",
     "output_type": "stream",
     "text": [
      "apple mobile\n",
      "The program is executed successfully\n",
      "\n",
      "apple mobile\n",
      "This is the end of the program\n",
      "\n",
      "Please enter a negative number 55\n",
      "The entered number is not negative\n"
     ]
    }
   ],
   "source": [
    "#Q4. Explain with an example:\n",
    "\n",
    "#try and else:\n",
    "'If the try block is executed without exception, else block is executed.'\n",
    "try:\n",
    "    a = 'apple '\n",
    "    b = 'mobile'\n",
    "    print(a+b)\n",
    "except:\n",
    "    print('There is a problem')\n",
    "else:\n",
    "    print('The program is executed successfully\\n')\n",
    "    \n",
    "#finally\n",
    "'finally block is executed irrespective of whether the try block has exception or not.'\n",
    "try:\n",
    "    a = 'apple '\n",
    "    b = 'mobile'\n",
    "    print(a+b)\n",
    "finally:\n",
    "    print('This is the end of the program\\n')\n",
    "    \n",
    "#raise\n",
    "'raise is used to raise exceptions or errors in custom exceptions.'\n",
    "\n",
    "class errormsg(Exception):\n",
    "    def __init__(self, msg):\n",
    "        self.msg = msg\n",
    "\n",
    "def negative(neg):\n",
    "    if neg < 0:\n",
    "        print('Valid')\n",
    "    else:\n",
    "        raise errormsg('The entered number is not negative') \n",
    "        \n",
    "try: \n",
    "    neg = int(input('Please enter a negative number '))\n",
    "    negative(neg)\n",
    "except errormsg as e:\n",
    "    print(e)\n",
    "\n",
    "\n"
   ]
  },
  {
   "cell_type": "code",
   "execution_count": 7,
   "id": "8399baa6",
   "metadata": {},
   "outputs": [
    {
     "name": "stdout",
     "output_type": "stream",
     "text": [
      "Please enter your name 55\n",
      "Please enter a valid name\n"
     ]
    }
   ],
   "source": [
    "#Q5. What are Custom Exception in Python? Why do we need custom exceptions? Explain with an example.\n",
    "\n",
    "'''Custom exceptions are user defined exceptions created by inheriting the built in Exception class.\n",
    "We need custom exceptions to raise error as per the needs of a program.'''\n",
    "\n",
    "class errormsg(Exception):\n",
    "    def __init__(self, msg):\n",
    "        self.msg = msg\n",
    "        \n",
    "def valid(name):\n",
    "    if name.isnumeric():\n",
    "        raise errormsg('Please enter a valid name')\n",
    "    else:\n",
    "        print(f'The name is {name}')\n",
    "\n",
    "try:\n",
    "    name = input('Please enter your name ')\n",
    "    valid(name)\n",
    "except errormsg as e:\n",
    "    print(e)\n",
    "\n"
   ]
  },
  {
   "cell_type": "code",
   "execution_count": 10,
   "id": "170529c8",
   "metadata": {},
   "outputs": [
    {
     "name": "stdout",
     "output_type": "stream",
     "text": [
      "Please enter a positive number -99\n",
      "This is an invalid number\n"
     ]
    }
   ],
   "source": [
    "#Q6. Create a custom exception class. Use this class to handle an exception.\n",
    "\n",
    "class errormsg(Exception):\n",
    "    def __init__(self, msg):\n",
    "        self.msg = msg\n",
    "        \n",
    "def valid_no(pos):\n",
    "    if pos >= 0:\n",
    "        print('This is a valid number')\n",
    "    else:\n",
    "        raise errormsg('This is an invalid number')\n",
    "    \n",
    "try:\n",
    "    pos = int(input('Please enter a positive number '))\n",
    "    valid_no(pos)\n",
    "except errormsg as e:\n",
    "    print(e)\n"
   ]
  }
 ],
 "metadata": {
  "kernelspec": {
   "display_name": "Python 3 (ipykernel)",
   "language": "python",
   "name": "python3"
  },
  "language_info": {
   "codemirror_mode": {
    "name": "ipython",
    "version": 3
   },
   "file_extension": ".py",
   "mimetype": "text/x-python",
   "name": "python",
   "nbconvert_exporter": "python",
   "pygments_lexer": "ipython3",
   "version": "3.9.13"
  }
 },
 "nbformat": 4,
 "nbformat_minor": 5
}
