{
 "cells": [
  {
   "cell_type": "code",
   "execution_count": 1,
   "id": "ccf265d9",
   "metadata": {},
   "outputs": [
    {
     "data": {
      "text/plain": [
       "\"open() function is used to open a file. The different modes of opening a file are:\\n'r' - open for reading \\n'w' - open for writing, truncating the file first\\n'x' - create a new file and open it for writing\\n'a' - open for writing, appending to the end of the file if it exists\\n'b' - binary mode\\n't' - text mode (default)\\n'+' - open a disk file for updating (reading and writing)\\n'U' - universal newline mode (deprecated)\""
      ]
     },
     "execution_count": 1,
     "metadata": {},
     "output_type": "execute_result"
    }
   ],
   "source": [
    "#Q1. Which function is used to open a file? What are the different modes of opening a file? Explain each mode of file opening.\n",
    "'''open() function is used to open a file. The different modes of opening a file are:\n",
    "'r' - open for reading \n",
    "'w' - open for writing, truncating the file first\n",
    "'x' - create a new file and open it for writing\n",
    "'a' - open for writing, appending to the end of the file if it exists\n",
    "'b' - binary mode\n",
    "'t' - text mode (default)\n",
    "'+' - open a disk file for updating (reading and writing)\n",
    "'U' - universal newline mode (deprecated)'''\n"
   ]
  },
  {
   "cell_type": "code",
   "execution_count": null,
   "id": "268a1a8c",
   "metadata": {},
   "outputs": [],
   "source": [
    "#Q2. Why close() function is used? Why is it important to close a file?\n",
    "'''close() function is used to let know Python that writing is done. It is important so that\n",
    "the contents are saved in the file and any corruption of data is prevented'''"
   ]
  },
  {
   "cell_type": "code",
   "execution_count": 5,
   "id": "6b03ca6c",
   "metadata": {},
   "outputs": [
    {
     "data": {
      "text/plain": [
       "'I want to become a Data Scientist'"
      ]
     },
     "execution_count": 5,
     "metadata": {},
     "output_type": "execute_result"
    }
   ],
   "source": [
    "#Q3. Write a python program to create a text file. Write ‘I want to become a Data Scientist’ in that file. Then close the file. Open this file and read the content of the file.\n",
    "\n",
    "f = open('DS Masters.txt','w')\n",
    "f.write('I want to become a Data Scientist')\n",
    "f.close()\n",
    "\n",
    "f = open('DS Masters.txt', 'r')\n",
    "f.read()"
   ]
  },
  {
   "cell_type": "code",
   "execution_count": null,
   "id": "9e184d16",
   "metadata": {},
   "outputs": [],
   "source": [
    "#Q4. Explain the following with python code: read(), readline() and readlines().\n",
    "\n",
    "'''\n",
    "read() - it returns the data in a file. The byte size of data to be returned can be specified with is optional.\n",
    "readline() - it returns one line from a file. The byte size of line to be returned can be specified with is optional.\n",
    "readlines() - it returns all the lines from a file in a list as list items. The optional parameter is used to enter the bytes\n",
    "              of lines to be returned.\n",
    "'''\n",
    "\n",
    "\n"
   ]
  },
  {
   "cell_type": "code",
   "execution_count": 6,
   "id": "fe0097e4",
   "metadata": {},
   "outputs": [],
   "source": [
    "#Q5. Explain why with statement is used with open(). What is the advantage of using with statement and open() together?\n",
    "\n",
    "'''with is use along with open() to open a file. The advantage of using with statement is that it \n",
    "closes the file automatically without using close().'''\n",
    "\n",
    "\n"
   ]
  },
  {
   "cell_type": "code",
   "execution_count": 9,
   "id": "858cd1dc",
   "metadata": {},
   "outputs": [
    {
     "data": {
      "text/plain": [
       "'The following courses are included in the syllabus: \\nPython\\nStatistics\\nMachine Learning\\nDeep Leanring'"
      ]
     },
     "execution_count": 9,
     "metadata": {},
     "output_type": "execute_result"
    }
   ],
   "source": [
    "#Q6. Explain the write() and writelines() functions. Give a suitable example.\n",
    "\n",
    "'''write() is used to write data to a file. writelines() is used to write the items of a list to a file '''\n",
    "\n",
    "f = open('test.txt', 'w')\n",
    "f.write('The following courses are included in the syllabus: ')\n",
    "f.writelines(['\\nPython', '\\nStatistics', '\\nMachine Learning', '\\nDeep Leanring'])\n",
    "f.close()\n",
    "\n",
    "f = open('test.txt', 'r')\n",
    "f.read()\n"
   ]
  }
 ],
 "metadata": {
  "kernelspec": {
   "display_name": "Python 3 (ipykernel)",
   "language": "python",
   "name": "python3"
  },
  "language_info": {
   "codemirror_mode": {
    "name": "ipython",
    "version": 3
   },
   "file_extension": ".py",
   "mimetype": "text/x-python",
   "name": "python",
   "nbconvert_exporter": "python",
   "pygments_lexer": "ipython3",
   "version": "3.9.13"
  }
 },
 "nbformat": 4,
 "nbformat_minor": 5
}
