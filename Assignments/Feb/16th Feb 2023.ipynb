{
 "cells": [
  {
   "cell_type": "code",
   "execution_count": null,
   "id": "4d5f4823",
   "metadata": {},
   "outputs": [],
   "source": [
    "#Q1. What is a database? Differentiate between SQL and NoSQL databases.\n",
    "'''\n",
    "A database is an organized collection of data stored electronically in a computer system.\n",
    "\n",
    "SQL databases are reational databases that are in the form of tables. They are vertically scalable and have\n",
    "predefined schema. These databases are not suited for hierarchical data storage but are suited for \n",
    "complex queries. It follows ACID property.\n",
    "\n",
    "NoSQL databases are non relational databases that can be in the form of document-based, key-value pairs, and\n",
    "graph databases. They are horizontally scalable and have dynamic schema. These databases are best suited for\n",
    "hierarchical data storage but not for complex queries. It follows CAP.\n",
    "'''\n"
   ]
  },
  {
   "cell_type": "code",
   "execution_count": null,
   "id": "088cd72d",
   "metadata": {},
   "outputs": [],
   "source": [
    "#Q2. What is DDL? Explain why CREATE, DROP, ALTER, and TRUNCATE are used with an example.\n",
    "'''\n",
    "DDL means Data Definition Language which is a subset of SQL commands. It is used to create\n",
    "and modify the structure of database objects in the database.\n",
    "\n",
    "CREATE is used to create a database and its objects.\n",
    "Example: CREATE DATABASE workers;\n",
    "\n",
    "DROP is used to delete objects from the database.\n",
    "Example: DROP TABLE salary;\n",
    "\n",
    "ALTER is used to alter the structure of the database.\n",
    "Example: ALTER TABLE workers ADD age INT;\n",
    "\n",
    "TRUNCATE is used to remove all records from a table.\n",
    "Example: TRUNCATE TABLE workers;\n",
    "'''\n"
   ]
  },
  {
   "cell_type": "code",
   "execution_count": null,
   "id": "9b6ca39a",
   "metadata": {},
   "outputs": [],
   "source": [
    "#Q3. What is DML? Explain INSERT, UPDATE, and DELETE with an example.\n",
    "'''\n",
    "DML means Data Manipulation Language which is a subset of SQL commands used for manipulation of data.\n",
    "\n",
    "INSERT is used to insert data into a table.\n",
    "Example: INSERT INTO workers (id, name, age) VALUES (101, 'John', 36);\n",
    "\n",
    "UPDATE is used to update existing data in a table.\n",
    "Example: UPDATE workers SET age = 38 WHERE id = 105 ;  \n",
    "\n",
    "DELETE is used to delete records from a database table.\n",
    "Example: DELETE FROM workers;\n",
    "'''\n"
   ]
  },
  {
   "cell_type": "code",
   "execution_count": null,
   "id": "4fb951cf",
   "metadata": {},
   "outputs": [],
   "source": [
    "#Q4. What is DQL? Explain SELECT with an example.\n",
    "'''\n",
    "DQL means Data Query Language which is a subset of SQL commands.\n",
    "\n",
    "SELECT is used to retrieve data from the database.\n",
    "Example: SELECT * FROM workers;\n",
    "'''\n"
   ]
  },
  {
   "cell_type": "code",
   "execution_count": null,
   "id": "fcf06fc6",
   "metadata": {},
   "outputs": [],
   "source": [
    "#Q5. Explain Primary Key and Foreign Key.\n",
    "'''\n",
    "A primary key is used to ensure that data of a specified column is unique. Only one primary key is \n",
    "allowed in a table and it does not alllow NULL values. Its value cannot be deleted from the parent table.\n",
    "\n",
    "A foreign key is a column or a group of columns that links data between two tables. More than one foreign key\n",
    "is allowed in a table and it allows duplicate and NULL values. Its value can be deleted from the child table..\n",
    "'''\n"
   ]
  },
  {
   "cell_type": "code",
   "execution_count": null,
   "id": "6d933619",
   "metadata": {},
   "outputs": [],
   "source": [
    "#Q6. Write a python code to connect MySQL to python. Explain the cursor() and execute() method.\n",
    "'''\n",
    "cursor() is used to execute SQL queries through python and execute() is used to pass the SQL queries\n",
    "which is then implemented.\n",
    "'''\n",
    "\n",
    "import mysql.connector\n",
    "\n",
    "mydb = mysql.connector.connect(\n",
    "  host=\"localhost\",\n",
    "  user=\"yourusername\",\n",
    "  password=\"yourpassword\"\n",
    ")\n",
    "mycursor = mydb.cursor()\n",
    "mycursor.execute(\"CREATE DATABSAE workers\")\n",
    "mydb.close\n"
   ]
  },
  {
   "cell_type": "code",
   "execution_count": null,
   "id": "f70196e9",
   "metadata": {},
   "outputs": [],
   "source": [
    "#Q7. Give the order of execution of SQL clauses in an SQL query.\n",
    "'''\n",
    "The order of execution of SQL clauses in an SQL query:\n",
    "FROM\n",
    "WHERE\n",
    "GROUP BY\n",
    "HAVING\n",
    "SELECT\n",
    "ORDER BY\n",
    "LIMIT\n",
    "'''\n"
   ]
  }
 ],
 "metadata": {
  "kernelspec": {
   "display_name": "Python 3 (ipykernel)",
   "language": "python",
   "name": "python3"
  },
  "language_info": {
   "codemirror_mode": {
    "name": "ipython",
    "version": 3
   },
   "file_extension": ".py",
   "mimetype": "text/x-python",
   "name": "python",
   "nbconvert_exporter": "python",
   "pygments_lexer": "ipython3",
   "version": "3.9.13"
  }
 },
 "nbformat": 4,
 "nbformat_minor": 5
}
