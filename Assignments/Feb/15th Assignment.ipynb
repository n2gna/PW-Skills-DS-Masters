{
 "cells": [
  {
   "cell_type": "code",
   "execution_count": null,
   "id": "a0683477",
   "metadata": {},
   "outputs": [],
   "source": [
    "#Q1. What is multiprocessing in python? Why is it useful? \n",
    "'''\n",
    "Multiprocessing enables execution of a program by running it over more than one processor\n",
    "at the same time. It enables parallel computing thus improving the overall performance.\n",
    "'''\n"
   ]
  },
  {
   "cell_type": "code",
   "execution_count": null,
   "id": "131f74c7",
   "metadata": {},
   "outputs": [],
   "source": [
    "#Q2. What are the differences between multiprocessing and multithreading?\n",
    "'''\n",
    "In multithreading, multiple threads are created which share the same resources and are executed concurrently.\n",
    "Creation of a thread is fast and economical and needs one processor.\n",
    "\n",
    "In multiprocessing, multiple processes are executed over multiple processors. They each have separate space and\n",
    "address. Creation of a process is resource intensive and slow.\n",
    "'''\n"
   ]
  },
  {
   "cell_type": "code",
   "execution_count": 6,
   "id": "c7e3e392",
   "metadata": {},
   "outputs": [],
   "source": [
    "#Q3. Write a python code to create a process using the multiprocessing module.\n",
    "\n",
    "import multiprocessing\n",
    "\n",
    "def square():\n",
    "    print('akdk')\n",
    "\n",
    "if __name__ == '__main__':\n",
    "    m = multiprocessing.Process(target = square)\n",
    "    m.start()\n",
    "    m.join()\n"
   ]
  },
  {
   "cell_type": "code",
   "execution_count": 7,
   "id": "b9ae697b",
   "metadata": {},
   "outputs": [
    {
     "data": {
      "text/plain": [
       "'\\nMultiprocessing pool is used for parallel execution of a function with multiple input values by \\ndistributing the input over multiple processes.\\n\\n\\n\\n'"
      ]
     },
     "execution_count": 7,
     "metadata": {},
     "output_type": "execute_result"
    }
   ],
   "source": [
    "#Q4. What is a multiprocessing pool in python? Why is it used?\n",
    "'''\n",
    "Multiprocessing pool is used for parallel execution of a function with multiple input values by \n",
    "distributing the input over multiple processes.\n",
    "\n",
    "It is used to create a pool of worker processes that can be reused after each process.\n",
    "'''\n"
   ]
  },
  {
   "cell_type": "code",
   "execution_count": null,
   "id": "00c13ad1",
   "metadata": {},
   "outputs": [],
   "source": [
    "#Q5. How can we create a pool of worker processes in python using the multiprocessing module?\n",
    "'''\n",
    "Process pool from multiprocessing module can be used to create a pool of worker processes in python.\n",
    "It helps in distributing inputs over processes enabling parallel computing.\n",
    "'''\n"
   ]
  },
  {
   "cell_type": "code",
   "execution_count": 12,
   "id": "b1c661a2",
   "metadata": {},
   "outputs": [],
   "source": [
    "#Q6. Write a python program to create 4 processes, each process should print a different number using the multiprocessing module in python.\n",
    "\n",
    "import multiprocessing\n",
    "\n",
    "def nos(n):\n",
    "    print(n**3)\n",
    "\n",
    "if __name__=='__main__':\n",
    "    for i in range(1,5):\n",
    "        p = multiprocessing.Process(target=nos, args=(i,))\n",
    "        p.start()\n",
    "        p.join()\n"
   ]
  }
 ],
 "metadata": {
  "kernelspec": {
   "display_name": "Python 3 (ipykernel)",
   "language": "python",
   "name": "python3"
  },
  "language_info": {
   "codemirror_mode": {
    "name": "ipython",
    "version": 3
   },
   "file_extension": ".py",
   "mimetype": "text/x-python",
   "name": "python",
   "nbconvert_exporter": "python",
   "pygments_lexer": "ipython3",
   "version": "3.9.13"
  }
 },
 "nbformat": 4,
 "nbformat_minor": 5
}
