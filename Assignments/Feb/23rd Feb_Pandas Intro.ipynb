{
 "cells": [
  {
   "cell_type": "code",
   "execution_count": 2,
   "metadata": {},
   "outputs": [],
   "source": [
    "import pandas as pd\n"
   ]
  },
  {
   "cell_type": "code",
   "execution_count": 22,
   "metadata": {},
   "outputs": [
    {
     "name": "stdout",
     "output_type": "stream",
     "text": [
      "0     4\n",
      "1     8\n",
      "2    15\n",
      "3    16\n",
      "4    23\n",
      "5    42\n",
      "dtype: int64\n"
     ]
    }
   ],
   "source": [
    "#Q1. Create a Pandas Series that contains the following data: 4, 8, 15, 16, 23, and 42. Then, print the series.\n",
    "\n",
    "\n",
    "d = pd.Series([4,8,15,16,23,42])\n",
    "print(d)\n"
   ]
  },
  {
   "cell_type": "code",
   "execution_count": 5,
   "metadata": {},
   "outputs": [
    {
     "name": "stdout",
     "output_type": "stream",
     "text": [
      "0     23\n",
      "1     65\n",
      "2     89\n",
      "3      6\n",
      "4     78\n",
      "5      6\n",
      "6     23\n",
      "7     49\n",
      "8      3\n",
      "9    578\n",
      "dtype: int64\n"
     ]
    }
   ],
   "source": [
    "#Q2. Create a variable of list type containing 10 elements in it, and apply pandas.Series function on the variable print it.\n",
    "\n",
    "\n",
    "l = [23,65,89,6,78,6,23,49,3,578]\n",
    "d = pd.Series(l)\n",
    "print(d)"
   ]
  },
  {
   "cell_type": "code",
   "execution_count": 13,
   "metadata": {},
   "outputs": [
    {
     "name": "stdout",
     "output_type": "stream",
     "text": [
      "     Name  Age  Gender\n",
      "0   Alice   25  Female\n",
      "1     Bob   30    Male\n",
      "2  Claire   27  Female\n"
     ]
    }
   ],
   "source": [
    "#Q3. Create a Pandas DataFrame that contains the following data: Then, print the DataFrame.\n",
    "\n",
    "d = {\"Name\": [\"Alice\", \"Bob\", \"Claire\"],\n",
    "     \"Age\": [25, 30, 27],\n",
    "     \"Gender\": [\"Female\", \"Male\", \"Female\"]}\n",
    "\n",
    "data = pd.DataFrame(d)\n",
    "print(data)\n"
   ]
  },
  {
   "cell_type": "code",
   "execution_count": 11,
   "metadata": {},
   "outputs": [
    {
     "name": "stdout",
     "output_type": "stream",
     "text": [
      "      Name        Job\n",
      "0    Peter      Clerk\n",
      "1   Oliver    Janitor\n",
      "2  Patrick  Associate\n",
      "\n",
      "\n",
      "0    New York\n",
      "1     Chicago\n",
      "2          LA\n",
      "dtype: object\n"
     ]
    }
   ],
   "source": [
    "#Q4. What is ‘DataFrame’ in pandas and how is it different from pandas.series? Explain with an example.\n",
    "\n",
    "\n",
    "'''A DataFrame represents a rectangular table of data and contains an ordered, named collection of columns. The DataFrame has \n",
    "both a row and column index;\n",
    "'''\n",
    "\n",
    "#Dataframe example:\n",
    "d = {\"Name\": [\"Peter\", \"Oliver\", \"Patrick\"],\n",
    "     \"Job\": [\"Clerk\", \"Janitor\", \"Associate\"]}\n",
    "print(pd.DataFrame(d))\n",
    "print(\"\\n\")\n",
    "'''Series can only contain a single list with an index. It is a one-dimensional array-like object containing a sequence of values '''\n",
    "\n",
    "#Series example:\n",
    "l = [\"New York\", \"Chicago\", \"LA\"]\n",
    "print(pd.Series(l))\n"
   ]
  },
  {
   "cell_type": "code",
   "execution_count": 15,
   "metadata": {},
   "outputs": [
    {
     "name": "stdout",
     "output_type": "stream",
     "text": [
      "    Name  Age  Gender\n",
      "0  Alice   25  Female\n",
      "1    Bob   30    Male\n"
     ]
    }
   ],
   "source": [
    "#Q5. What are some common functions you can use to manipulate data in a Pandas DataFrame? Can you give an example of when you might use one of these functions?\n",
    "\n",
    "'''Some common dataframe functions are head(), tail(), columns, read_csv(), to_csv().'''\n",
    "\n",
    " #head() example:\n",
    "'''head() function gives the first 5 or the mentioned number of rows from the DataFrame'''\n",
    "\n",
    "d = {\"Name\": [\"Alice\", \"Bob\", \"Claire\"],\n",
    "     \"Age\": [25, 30, 27],\n",
    "     \"Gender\": [\"Female\", \"Male\", \"Female\"]}\n",
    "data = pd.DataFrame(d)\n",
    "\n",
    "print(data.head(2))\n"
   ]
  },
  {
   "cell_type": "code",
   "execution_count": null,
   "metadata": {},
   "outputs": [],
   "source": [
    "#Q6. Which of the following is mutable in nature Series, DataFrame, Panel?\n",
    "'''All Pandas data structures are value mutable and except Series all are size mutable. Series is size immutable.'''"
   ]
  },
  {
   "cell_type": "code",
   "execution_count": 28,
   "metadata": {},
   "outputs": [
    {
     "name": "stdout",
     "output_type": "stream",
     "text": [
      "  Fruits  Quantity\n",
      "0  apple        45\n",
      "1  mango        98\n",
      "2   kiwi        77\n"
     ]
    }
   ],
   "source": [
    "#Q7. Create a DataFrame using multiple Series. Explain with an example.\n",
    "\n",
    "'''DataFrame can be created using concat() from multiple Series.'''\n",
    "\n",
    "#Example:\n",
    "s1 = pd.Series([\"apple\", \"mango\", \"kiwi\"], name=\"Fruits\")\n",
    "s2 = pd.Series([45, 98, 77], name=\"Quantity\")\n",
    "\n",
    "d = pd.concat([s1,s2], axis=1)\n",
    "print(d)\n"
   ]
  }
 ],
 "metadata": {
  "kernelspec": {
   "display_name": "base",
   "language": "python",
   "name": "python3"
  },
  "language_info": {
   "codemirror_mode": {
    "name": "ipython",
    "version": 3
   },
   "file_extension": ".py",
   "mimetype": "text/x-python",
   "name": "python",
   "nbconvert_exporter": "python",
   "pygments_lexer": "ipython3",
   "version": "3.9.13"
  },
  "orig_nbformat": 4
 },
 "nbformat": 4,
 "nbformat_minor": 2
}
