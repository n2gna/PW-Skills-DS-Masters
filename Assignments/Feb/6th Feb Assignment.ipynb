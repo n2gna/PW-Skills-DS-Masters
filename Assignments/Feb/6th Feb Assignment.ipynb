{
 "cells": [
  {
   "cell_type": "code",
   "execution_count": 53,
   "id": "cb689198",
   "metadata": {},
   "outputs": [
    {
     "name": "stdout",
     "output_type": "stream",
     "text": [
      "[1, 2, 3, 4, 44, 55, 66, True, False, 34, 56, 78, 89, 34, 1, 2, 3, 1, 34, 'key2', 55, 67, 78, 89, 4, 45, 22, 61, 34, 56, 'data science', 'Machine Learning']\n",
      "4134711838987085478833841242112000\n"
     ]
    }
   ],
   "source": [
    "#Q1. Create a function which will take a list as an argument and return the product of all the numbers after creating a flat list.\n",
    "\n",
    "list1 = [1,2,3,4, [44,55,66, True], False, (34,56,78,89,34), {1,2,3,3,2,1},\n",
    "         {1:34, \"key2\": [55, 67, 78, 89], 4: (45,22, 61, 34)}, \n",
    "         [56, 'data science'], 'Machine Learning']\n",
    "\n",
    "\n",
    "def flatprod(l):\n",
    "    from functools import reduce\n",
    "    def flat(l):\n",
    "        newl = []\n",
    "        for i in l:\n",
    "            if type(i) in [list,tuple,set]:\n",
    "                for j in i:\n",
    "                    if type(j) in [int,str,bool]:\n",
    "                        newl.append(j)\n",
    "                    else:\n",
    "                        newl.extend(flat(j))\n",
    "            elif type(i) == dict:\n",
    "                dlist = list(i.items())\n",
    "                newl.extend(flat(dlist))\n",
    "            else:\n",
    "                newl.append(i)\n",
    "        return newl\n",
    "    f = flat(l)\n",
    "    num = list(filter(lambda x : type(x) in [int,float], f))\n",
    "    print(f)\n",
    "    return reduce(lambda x,y : x*y, num)\n",
    "    \n",
    "print(flatprod(list1))\n",
    "\n",
    "\n"
   ]
  },
  {
   "cell_type": "code",
   "execution_count": 66,
   "id": "33a83f48",
   "metadata": {
    "scrolled": true
   },
   "outputs": [
    {
     "name": "stdout",
     "output_type": "stream",
     "text": [
      "r$dzmg$gl$yvxlnv$z$wzgz$hxrvmgrhg.\n"
     ]
    }
   ],
   "source": [
    "'''#Q2. Write a python program for encrypting a message sent to you by your friend. The logic of encryption hould be such that,\n",
    "for a the output should be z. For b, the output should be y. For c, the output should e x respectively. Also, the whitespace should\n",
    "be replaced with a dollar sign. Keep the punctuation marks unchanged.'''\n",
    "\n",
    "input1 = 'I want to become a Data Scientist.'\n",
    "\n",
    "msg = input1.lower()\n",
    "\n",
    "l = []\n",
    "a = lambda x : ord(x)\n",
    "for i in msg:\n",
    "    if i == ' ':\n",
    "        l.append('$')\n",
    "    elif a(i) >= 97 and a(i) <=122:\n",
    "        asc = ord(i) + (27-(2*(ord(i)-96)))\n",
    "        l.append(chr(asc))\n",
    "    else:\n",
    "        l.append(i)\n",
    "        \n",
    "encryp = ''.join(l)    \n",
    "print(encryp)       "
   ]
  },
  {
   "cell_type": "code",
   "execution_count": null,
   "id": "44a4a7b4",
   "metadata": {},
   "outputs": [],
   "source": []
  }
 ],
 "metadata": {
  "kernelspec": {
   "display_name": "Python 3 (ipykernel)",
   "language": "python",
   "name": "python3"
  },
  "language_info": {
   "codemirror_mode": {
    "name": "ipython",
    "version": 3
   },
   "file_extension": ".py",
   "mimetype": "text/x-python",
   "name": "python",
   "nbconvert_exporter": "python",
   "pygments_lexer": "ipython3",
   "version": "3.9.13"
  }
 },
 "nbformat": 4,
 "nbformat_minor": 5
}
