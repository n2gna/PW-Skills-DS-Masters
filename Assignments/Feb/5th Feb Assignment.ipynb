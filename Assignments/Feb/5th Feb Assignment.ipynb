{
 "cells": [
  {
   "cell_type": "code",
   "execution_count": 6,
   "id": "eaa7568b",
   "metadata": {},
   "outputs": [
    {
     "name": "stdout",
     "output_type": "stream",
     "text": [
      "We are pleased to receive you\n"
     ]
    }
   ],
   "source": [
    "#Q1. Explain Class and Object with respect to Object-Oriented Programming. Give a suitable example.\n",
    "\n",
    "'''In OOP, class is a blueprint that gives the properties and attributes to an object. An object behaves as\n",
    "per the properties assigned to it by a specific class. In the below example, Guests is a class and oliver is\n",
    "an object.'''\n",
    "\n",
    "class Guests:\n",
    "    def welcome(self):\n",
    "        print('We are pleased to receive you')\n",
    "        \n",
    "oliver = Guests()\n",
    "\n",
    "oliver.welcome()\n"
   ]
  },
  {
   "cell_type": "code",
   "execution_count": null,
   "id": "49aa2063",
   "metadata": {},
   "outputs": [],
   "source": [
    "#Q2. Name the four pillars of OOPs.\n",
    "\n",
    "'The four pillars of OOPs are polymorphism, encapsulation, inheritance and abstraction'"
   ]
  },
  {
   "cell_type": "code",
   "execution_count": 21,
   "id": "47394df0",
   "metadata": {},
   "outputs": [
    {
     "name": "stdout",
     "output_type": "stream",
     "text": [
      "Tom\n",
      "35\n"
     ]
    }
   ],
   "source": [
    "#Q3. Explain why the __init__() function is used. Give a suitable example.\n",
    "\n",
    "'''The __init__() function is a constructor and helps to initialize attributes for a class.'''\n",
    "\n",
    "class Workers:\n",
    "    def __init__(self, name, age):\n",
    "        self.name = name\n",
    "        self.age = age\n",
    "\n",
    "worker1 = Workers('Tom', 35)\n",
    "print(worker1.name)\n",
    "print(worker1.age)"
   ]
  },
  {
   "cell_type": "code",
   "execution_count": null,
   "id": "72a022dc",
   "metadata": {},
   "outputs": [],
   "source": [
    "#Q4. Why self is used in OOPs?\n",
    "\n",
    "'''Self is used to reference the class and allows to access the methods and attributes of the\n",
    "class when assigned to an object'''"
   ]
  },
  {
   "cell_type": "code",
   "execution_count": 22,
   "id": "cfc9039e",
   "metadata": {},
   "outputs": [
    {
     "name": "stdout",
     "output_type": "stream",
     "text": [
      "The job is the position of a clerk\n",
      "The name of the worker is Parker\n"
     ]
    }
   ],
   "source": [
    "#Q5. What is inheritance? Give an example for each type of inheritance.\n",
    "\n",
    "'''Inheritance allows a class to inherit all the methods and properties from another class. Parent class is the class\n",
    "being inherited from and child class is the class that inherits from another class.'''\n",
    "\n",
    "'In multilevel inheritance, one class inherits from another class, which in turn inherits from another class. There is no limit'\n",
    "\n",
    "class Workers:\n",
    "    def name(self):\n",
    "        print('The name of the worker is Peter')\n",
    "\n",
    "class Job(Workers):\n",
    "    def job(self):\n",
    "        print('The job is the position of a clerk')\n",
    "\n",
    "class Office(Job):\n",
    "    def office(self):\n",
    "        print('The offcice is at New York')\n",
    "        \n",
    "worker1 = Office()\n",
    "worker1.job()\n",
    "\n",
    "'In multiple inheritance, one class inherits from mmultiple classes. The parent classes do not inherit each other'\n",
    "\n",
    "class Workers:\n",
    "    def name(self):\n",
    "        print('The name of the worker is Parker')\n",
    "\n",
    "class Job:\n",
    "    def job(self):\n",
    "        print('The job is the position of a janitor')\n",
    "\n",
    "class Office(Workers, Job):\n",
    "    def office(self):\n",
    "        print('The offcice is at Seattle')\n",
    "\n",
    "worker2 = Office()\n",
    "worker2.name()"
   ]
  }
 ],
 "metadata": {
  "kernelspec": {
   "display_name": "Python 3 (ipykernel)",
   "language": "python",
   "name": "python3"
  },
  "language_info": {
   "codemirror_mode": {
    "name": "ipython",
    "version": 3
   },
   "file_extension": ".py",
   "mimetype": "text/x-python",
   "name": "python",
   "nbconvert_exporter": "python",
   "pygments_lexer": "ipython3",
   "version": "3.9.13"
  }
 },
 "nbformat": 4,
 "nbformat_minor": 5
}
