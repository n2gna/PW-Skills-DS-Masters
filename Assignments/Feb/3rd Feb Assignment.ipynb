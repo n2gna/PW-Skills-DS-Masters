{
 "cells": [
  {
   "cell_type": "code",
   "execution_count": 5,
   "id": "890c81fc",
   "metadata": {},
   "outputs": [
    {
     "name": "stdout",
     "output_type": "stream",
     "text": [
      "[1, 3, 5, 7, 9, 11, 13, 15, 17, 19, 21, 23, 25]\n"
     ]
    }
   ],
   "source": [
    "#Q1. Which keyword is used to create a function? Create a function to return a list of odd numbers in the range of 1 to 25.\n",
    "\n",
    "'def keyword is used to create a function'\n",
    "\n",
    "def odd_nos(n):\n",
    "    l = []\n",
    "    for i in range(1,n+1):\n",
    "        if i%2 != 0:\n",
    "            l.append(i)\n",
    "    return l\n",
    "    \n",
    "print(odd_nos(25))\n",
    "            "
   ]
  },
  {
   "cell_type": "code",
   "execution_count": 17,
   "id": "e2580270",
   "metadata": {},
   "outputs": [
    {
     "name": "stdout",
     "output_type": "stream",
     "text": [
      "[1, 4, 9, 16, 25, 36]\n",
      "{'a': 9, 'b': 25, 'c': 36, 'd': 81}\n"
     ]
    }
   ],
   "source": [
    "#Q2. Why *args and **kwargs is used in some functions? Create a function each for *args and **kwargs to demonstrate their use.\n",
    "\n",
    "'''*args is used in a function to not restrict the number of input arguments. **kwargs is used in a function where the arguments\n",
    "entered are required to be keys and values of a dictionary.'''\n",
    "\n",
    "#*args\n",
    "def func1(*args):\n",
    "    l = []\n",
    "    for i in args:\n",
    "        l.append(i**2)\n",
    "    return l\n",
    "#func1 returns the square of arguments in a list\n",
    "print(func1(1,2,3,4,5,6))\n",
    "\n",
    "\n",
    "#**kwargs\n",
    "def func2(**kwargs):\n",
    "    d = {}\n",
    "    for k,v in kwargs.items():\n",
    "        v = v**2 \n",
    "        d.update({k:v}) \n",
    "    return d\n",
    "#func2 returns the square of values in a dictionary\n",
    "print(func2(a=3, b=5, c=6, d=9))"
   ]
  },
  {
   "cell_type": "code",
   "execution_count": 19,
   "id": "36731d4c",
   "metadata": {},
   "outputs": [
    {
     "name": "stdout",
     "output_type": "stream",
     "text": [
      "2\n",
      "4\n",
      "6\n",
      "8\n",
      "10\n"
     ]
    }
   ],
   "source": [
    "#Q3.  What is an iterator in python? Name the method used to initialise the iterator object and the method used for iteration. Use these methods to print the first five elements of the given list [2, 4, 6, 8, 10, 12, 14, 16, 18, 20].\n",
    "\n",
    "'''An iterator is an object that gives a sequence to be iterated upon. iter() menthod is used to intialize the iterator object and next() method\n",
    "is used for iteration'''\n",
    "\n",
    "l = [2, 4, 6, 8, 10, 12, 14, 16, 18, 20]\n",
    "i = iter(l)\n",
    "\n",
    "for n in range(5):\n",
    "    print(next(i))\n"
   ]
  },
  {
   "cell_type": "code",
   "execution_count": 16,
   "id": "fc29b021",
   "metadata": {},
   "outputs": [
    {
     "name": "stdout",
     "output_type": "stream",
     "text": [
      "2\n",
      "4\n",
      "6\n",
      "8\n",
      "10\n"
     ]
    }
   ],
   "source": [
    "#Q4.  What is a generator function in python? Why yield keyword is used? Give an example of a generator function.\n",
    "\n",
    "'''A generator function returns an iterator which can be use to get the elements of a sequence through iteration.\n",
    "Yield keyword is used to return values from a function wihtout storing the values and terminating the function.'''\n",
    "\n",
    "def gen(n):\n",
    "    for i in range(1,n+1):\n",
    "        if i%2 == 0:\n",
    "            yield i\n",
    "            \n",
    "for even in (gen(10)):\n",
    "    print(even)\n",
    "    \n",
    "\n",
    "\n"
   ]
  },
  {
   "cell_type": "code",
   "execution_count": 23,
   "id": "8bbaccc7",
   "metadata": {},
   "outputs": [
    {
     "name": "stdout",
     "output_type": "stream",
     "text": [
      "2\n",
      "3\n",
      "5\n",
      "7\n",
      "11\n",
      "13\n",
      "17\n",
      "19\n",
      "23\n",
      "29\n",
      "31\n",
      "37\n",
      "41\n",
      "43\n",
      "47\n",
      "53\n",
      "59\n",
      "61\n",
      "67\n",
      "71\n"
     ]
    }
   ],
   "source": [
    "#Q5. Create a generator function for prime numbers less than 1000. Use the next() method to print the first 20 prime numbers.\n",
    "\n",
    "def prime(n):\n",
    "    for i in range(2, n + 1):\n",
    "        for j in range(2, int(i ** 0.5) + 1):\n",
    "            if i%j == 0:\n",
    "                break\n",
    "        else:\n",
    "            yield i\n",
    "            \n",
    "i = iter(prime(1000))\n",
    "\n",
    "for n in range(20):\n",
    "    print(next(i))\n",
    "    "
   ]
  }
 ],
 "metadata": {
  "kernelspec": {
   "display_name": "Python 3 (ipykernel)",
   "language": "python",
   "name": "python3"
  },
  "language_info": {
   "codemirror_mode": {
    "name": "ipython",
    "version": 3
   },
   "file_extension": ".py",
   "mimetype": "text/x-python",
   "name": "python",
   "nbconvert_exporter": "python",
   "pygments_lexer": "ipython3",
   "version": "3.9.13"
  }
 },
 "nbformat": 4,
 "nbformat_minor": 5
}
