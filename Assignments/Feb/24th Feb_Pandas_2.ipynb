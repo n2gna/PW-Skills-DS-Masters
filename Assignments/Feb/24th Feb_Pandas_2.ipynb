{
 "cells": [
  {
   "cell_type": "code",
   "execution_count": 3,
   "metadata": {},
   "outputs": [],
   "source": [
    "import pandas as pd"
   ]
  },
  {
   "cell_type": "code",
   "execution_count": 4,
   "metadata": {},
   "outputs": [
    {
     "name": "stdout",
     "output_type": "stream",
     "text": [
      "     Name  Age     Place\n",
      "0   Peter   22  New York\n",
      "1  Oliver   25   Chicago\n",
      "\n",
      "\n",
      "      Name  Age    Place\n",
      "1   Oliver   25  Chicago\n",
      "2  Patrick   27       LA\n",
      "\n",
      "\n",
      "             Age\n",
      "count   3.000000\n",
      "mean   24.666667\n",
      "std     2.516611\n",
      "min    22.000000\n",
      "25%    23.500000\n",
      "50%    25.000000\n",
      "75%    26.000000\n",
      "max    27.000000\n",
      "\n",
      "\n",
      "['Peter' 'Oliver' 'Patrick']\n",
      "\n",
      "\n",
      "    Name     Place\n",
      "0  Peter  New York\n"
     ]
    }
   ],
   "source": [
    "#Q1. List any five functions of the pandas library with execution.\n",
    "df = pd.DataFrame({'Name': ['Peter', 'Oliver', 'Patrick'],\n",
    "     'Age': [22, 25, 27],\n",
    "     'Place': ['New York', 'Chicago', 'LA']})\n",
    "\n",
    "#head():\n",
    "print(df.head(2))\n",
    "print('\\n')\n",
    "\n",
    "#tail():\n",
    "print(df.tail(2))\n",
    "print('\\n')\n",
    "\n",
    "#describe():\n",
    "print(df.describe())\n",
    "print('\\n')\n",
    "\n",
    "#unique():\n",
    "print(df['Name'].unique())\n",
    "print('\\n')\n",
    "\n",
    "#iloc:\n",
    "print(df.iloc[0:1, [0,2]])\n"
   ]
  },
  {
   "cell_type": "code",
   "execution_count": 10,
   "metadata": {},
   "outputs": [
    {
     "name": "stdout",
     "output_type": "stream",
     "text": [
      "   A  B  C\n",
      "1  5  2  2\n",
      "3  4  3  3\n",
      "5  7  9  5\n"
     ]
    }
   ],
   "source": [
    "'''Q2. Given a Pandas DataFrame df with columns 'A', 'B', and 'C', write a Python function to re-index the DataFrame with a new index that\n",
    " starts from 1 and increments by 2 for each row.'''\n",
    "\n",
    "df = pd.DataFrame({\"A\":[1, 5, 3, 4, 2, 7],\n",
    "                   \"B\":[3, 2, 4, 3, 4, 9],\n",
    "                   \"C\":[2, 2, 7, 3, 4, 5]})\n",
    "\n",
    "def reind(d):\n",
    "    return d.reindex(list(range(1,len(d),2)))\n",
    "\n",
    "print(reind(df))\n",
    " "
   ]
  },
  {
   "cell_type": "code",
   "execution_count": 5,
   "metadata": {},
   "outputs": [
    {
     "name": "stdout",
     "output_type": "stream",
     "text": [
      "8\n"
     ]
    }
   ],
   "source": [
    "'''Q3. You have a Pandas DataFrame df with a column named 'Values'. Write a Python function that iterates over the DataFrame and\n",
    " calculates the sum of the first three values in the 'Values' column. The function should print the sum to the console'''\n",
    "\n",
    "\n",
    "df = pd.DataFrame({\"ID\":['A', 'B', 'C', 'D', 'E', 'F'],\n",
    "                   \"Values\":[3, 1, 4, 3, 4, 9]})\n",
    "\n",
    "def sum_three(dframe, col):\n",
    "    sum = 0\n",
    "    for i in list(dframe[col][0:3]):\n",
    "        sum = sum + i\n",
    "    return sum\n",
    "\n",
    "print(sum_three(df, 'Values'))\n"
   ]
  },
  {
   "cell_type": "code",
   "execution_count": 14,
   "metadata": {},
   "outputs": [
    {
     "name": "stdout",
     "output_type": "stream",
     "text": [
      "             Text  Word_count\n",
      "0  catch the ball           3\n",
      "1     drink water           2\n",
      "2           apple           1\n",
      "3   it is raining           3\n"
     ]
    }
   ],
   "source": [
    "'''Q4. Given a Pandas DataFrame df with a column 'Text', write a Python function to create a new column 'Word_Count' that contains the number\n",
    " of words in each row of the 'Text' column.'''\n",
    "\n",
    "\n",
    "df = pd.DataFrame({'Text': ['catch the ball', 'drink water', 'apple', 'it is raining']})\n",
    "\n",
    "def wordc(d, col):\n",
    "    d['Word_count'] = d[col].map(lambda x: len(x.split()))\n",
    "    return d\n",
    "\n",
    "print(wordc(df, 'Text'))\n"
   ]
  },
  {
   "cell_type": "code",
   "execution_count": 57,
   "metadata": {},
   "outputs": [
    {
     "name": "stdout",
     "output_type": "stream",
     "text": [
      "Size = 12\n",
      "Shape = (6, 2)\n"
     ]
    }
   ],
   "source": [
    "#Q5. How are DataFrame.size() and DataFrame.shape() different?\n",
    "\n",
    "df = pd.DataFrame({\"ID\":['A', 'B', 'C', 'D', 'E', 'F'],\n",
    "                   \"Values\":[3, 1, 4, 3, 4, 9]})\n",
    "\n",
    "\n",
    "'''DataFrame.size returns the number of rows times the number of columns of the DataFrame.'''\n",
    "print(f'Size = {df.size}')\n",
    "\n",
    "'''Dataframe.shsape returnsa a tuple representing the dimensionality of the DataFrame.'''\n",
    "print(f'Shape = {df.shape}')"
   ]
  },
  {
   "cell_type": "code",
   "execution_count": null,
   "metadata": {},
   "outputs": [],
   "source": [
    "#Q6. Which function of pandas do we use to read an excel file?\n",
    "\n",
    "'''pd.read_excel() is used to  read an excel file in pandas'''"
   ]
  },
  {
   "cell_type": "code",
   "execution_count": 26,
   "metadata": {},
   "outputs": [
    {
     "name": "stdout",
     "output_type": "stream",
     "text": [
      "                 Email   Username\n",
      "0  john.grey@gmail.com  john.grey\n",
      "1    wayne87@yahoo.com    wayne87\n",
      "2  patrick@hotmail.com    patrick\n",
      "3    iamjack@gmail.com    iamjack\n"
     ]
    }
   ],
   "source": [
    "'''Q7. You have a Pandas DataFrame df that contains a column named 'Email' that contains email addresses in the format 'username@domain.com'. \n",
    "Write a Python function that creates a new column 'Username' in df that contains only the username part of each email address.'''\n",
    "\n",
    "\n",
    "df = pd.DataFrame({'Email': ['john.grey@gmail.com', 'wayne87@yahoo.com', 'patrick@hotmail.com', 'iamjack@gmail.com']})\n",
    "\n",
    "\n",
    "def usrn(d, col):\n",
    "    d['Username'] = d[col].map(lambda x: x.split('@')[0])\n",
    "    return d\n",
    "\n",
    "print(usrn(df, 'Email'))\n",
    "\n"
   ]
  },
  {
   "cell_type": "code",
   "execution_count": 33,
   "metadata": {},
   "outputs": [
    {
     "name": "stdout",
     "output_type": "stream",
     "text": [
      "   A  B  C\n",
      "0  6  3  2\n",
      "5  7  9  5\n"
     ]
    }
   ],
   "source": [
    "'''Q8. You have a Pandas DataFrame df with columns 'A', 'B', and 'C'. Write a Python function that selects all rows where the value in column 'A' \n",
    "is greater than 5 and the value in column 'B' is less than 10. The function should return a new DataFrame that contains only the selected rows.'''\n",
    "\n",
    "df = pd.DataFrame({\"A\":[6, 5, 3, 4, 2, 7],\n",
    "                   \"B\":[3, 2, 5, 7, 4, 9],\n",
    "                   \"C\":[2, 1, 7, 3, 4, 5]})\n",
    "\n",
    "def filt(d):\n",
    "    return d[(d['A']>5) & (d['B']<10)]\n",
    "\n",
    "print(filt(df))\n",
    "\n",
    "\n"
   ]
  },
  {
   "cell_type": "code",
   "execution_count": 42,
   "metadata": {},
   "outputs": [
    {
     "name": "stdout",
     "output_type": "stream",
     "text": [
      "Mean = 47.333, Median = 45.5, Standard deviation = 28.619\n"
     ]
    }
   ],
   "source": [
    "'''Q9. Given a Pandas DataFrame df with a column 'Values', write a Python function to calculate the mean, median, and standard deviation of the\n",
    " values in the 'Values' column.'''\n",
    "\n",
    "\n",
    "df = pd.DataFrame({\"ID\":['A', 'B', 'C', 'D', 'E', 'F'],\n",
    "                   \"Values\":[33, 12, 74, 83, 24, 58]})\n",
    "\n",
    "def stat(d):\n",
    "    mn = d['Values'].mean()\n",
    "    mdn = d['Values'].median()\n",
    "    stdn = d['Values'].std()\n",
    "    return f'Mean = {round(mn,3)}, Median = {round(mdn,3)}, Standard deviation = {round(stdn,3)}'\n",
    "\n",
    "print(stat(df))\n"
   ]
  },
  {
   "cell_type": "code",
   "execution_count": 11,
   "metadata": {},
   "outputs": [
    {
     "data": {
      "text/html": [
       "<div>\n",
       "<style scoped>\n",
       "    .dataframe tbody tr th:only-of-type {\n",
       "        vertical-align: middle;\n",
       "    }\n",
       "\n",
       "    .dataframe tbody tr th {\n",
       "        vertical-align: top;\n",
       "    }\n",
       "\n",
       "    .dataframe thead th {\n",
       "        text-align: right;\n",
       "    }\n",
       "</style>\n",
       "<table border=\"1\" class=\"dataframe\">\n",
       "  <thead>\n",
       "    <tr style=\"text-align: right;\">\n",
       "      <th></th>\n",
       "      <th>Date</th>\n",
       "      <th>Sales</th>\n",
       "      <th>MovingAverage</th>\n",
       "    </tr>\n",
       "  </thead>\n",
       "  <tbody>\n",
       "    <tr>\n",
       "      <th>0</th>\n",
       "      <td>2023-01-01</td>\n",
       "      <td>25</td>\n",
       "      <td>NaN</td>\n",
       "    </tr>\n",
       "    <tr>\n",
       "      <th>1</th>\n",
       "      <td>2023-01-02</td>\n",
       "      <td>36</td>\n",
       "      <td>NaN</td>\n",
       "    </tr>\n",
       "    <tr>\n",
       "      <th>2</th>\n",
       "      <td>2023-01-03</td>\n",
       "      <td>31</td>\n",
       "      <td>NaN</td>\n",
       "    </tr>\n",
       "    <tr>\n",
       "      <th>3</th>\n",
       "      <td>2023-01-04</td>\n",
       "      <td>55</td>\n",
       "      <td>NaN</td>\n",
       "    </tr>\n",
       "    <tr>\n",
       "      <th>4</th>\n",
       "      <td>2023-01-05</td>\n",
       "      <td>72</td>\n",
       "      <td>NaN</td>\n",
       "    </tr>\n",
       "    <tr>\n",
       "      <th>5</th>\n",
       "      <td>2023-01-06</td>\n",
       "      <td>66</td>\n",
       "      <td>NaN</td>\n",
       "    </tr>\n",
       "    <tr>\n",
       "      <th>6</th>\n",
       "      <td>2023-01-07</td>\n",
       "      <td>41</td>\n",
       "      <td>46.571429</td>\n",
       "    </tr>\n",
       "    <tr>\n",
       "      <th>7</th>\n",
       "      <td>2023-01-08</td>\n",
       "      <td>38</td>\n",
       "      <td>48.428571</td>\n",
       "    </tr>\n",
       "    <tr>\n",
       "      <th>8</th>\n",
       "      <td>2023-01-09</td>\n",
       "      <td>49</td>\n",
       "      <td>50.285714</td>\n",
       "    </tr>\n",
       "    <tr>\n",
       "      <th>9</th>\n",
       "      <td>2023-01-10</td>\n",
       "      <td>52</td>\n",
       "      <td>53.285714</td>\n",
       "    </tr>\n",
       "  </tbody>\n",
       "</table>\n",
       "</div>"
      ],
      "text/plain": [
       "         Date  Sales  MovingAverage\n",
       "0  2023-01-01     25            NaN\n",
       "1  2023-01-02     36            NaN\n",
       "2  2023-01-03     31            NaN\n",
       "3  2023-01-04     55            NaN\n",
       "4  2023-01-05     72            NaN\n",
       "5  2023-01-06     66            NaN\n",
       "6  2023-01-07     41      46.571429\n",
       "7  2023-01-08     38      48.428571\n",
       "8  2023-01-09     49      50.285714\n",
       "9  2023-01-10     52      53.285714"
      ]
     },
     "execution_count": 11,
     "metadata": {},
     "output_type": "execute_result"
    }
   ],
   "source": [
    "'''Q10. Given a Pandas DataFrame df with a column 'Sales' and a column 'Date', write a Python function to create a new column 'MovingAverage'\n",
    "that contains the moving average of the sales for the past 7 days for each row in the DataFrame. The moving average should be calculated using\n",
    "a window of size 7 and should include the current day.'''\n",
    "\n",
    "df = pd.DataFrame({'Date': ['2023-01-01', '2023-01-02', '2023-01-03', '2023-01-04', '2023-01-05', '2023-01-06', '2023-01-07',\n",
    "                             '2023-01-08', '2023-01-09', '2023-01-10'],\n",
    "                   'Sales': [25, 36, 31, 55, 72, 66, 41, 38, 49, 52]})\n",
    "\n",
    "def movavg(d):\n",
    "    d['MovingAverage'] = d['Sales'].rolling(7).mean()\n",
    "    return d\n",
    "\n",
    "movavg(df)\n"
   ]
  },
  {
   "cell_type": "code",
   "execution_count": 88,
   "metadata": {},
   "outputs": [
    {
     "name": "stdout",
     "output_type": "stream",
     "text": [
      "        Date    Weekday\n",
      "0 2023-01-01     Sunday\n",
      "1 2023-01-02     Monday\n",
      "2 2023-01-03    Tuesday\n",
      "3 2023-01-04  Wednesday\n",
      "4 2023-01-05   Thursday\n",
      "5 2023-01-06     Friday\n",
      "6 2023-01-07   Saturday\n",
      "7 2023-01-08     Sunday\n",
      "8 2023-01-09     Monday\n",
      "9 2023-01-10    Tuesday\n"
     ]
    }
   ],
   "source": [
    "'''Q11. You have a Pandas DataFrame df with a column 'Date'. Write a Python function that creates a new column 'Weekday' in the DataFrame.\n",
    "The 'Weekday' column should contain the weekday name (e.g. Monday, Tuesday) corresponding to each date in the 'Date' column.'''\n",
    "\n",
    "\n",
    "df = pd.DataFrame({'Date': pd.date_range('2023-1-1', periods = 10)})\n",
    "\n",
    "def dayname(d):\n",
    "    d['Weekday'] = d['Date'].dt.day_name()\n",
    "    return d\n",
    "\n",
    "print(dayname(df))\n"
   ]
  },
  {
   "cell_type": "code",
   "execution_count": 19,
   "metadata": {},
   "outputs": [
    {
     "data": {
      "text/html": [
       "<div>\n",
       "<style scoped>\n",
       "    .dataframe tbody tr th:only-of-type {\n",
       "        vertical-align: middle;\n",
       "    }\n",
       "\n",
       "    .dataframe tbody tr th {\n",
       "        vertical-align: top;\n",
       "    }\n",
       "\n",
       "    .dataframe thead th {\n",
       "        text-align: right;\n",
       "    }\n",
       "</style>\n",
       "<table border=\"1\" class=\"dataframe\">\n",
       "  <thead>\n",
       "    <tr style=\"text-align: right;\">\n",
       "      <th></th>\n",
       "      <th>Date</th>\n",
       "    </tr>\n",
       "  </thead>\n",
       "  <tbody>\n",
       "    <tr>\n",
       "      <th>0</th>\n",
       "      <td>2023-01-01</td>\n",
       "    </tr>\n",
       "    <tr>\n",
       "      <th>1</th>\n",
       "      <td>2023-01-02</td>\n",
       "    </tr>\n",
       "    <tr>\n",
       "      <th>2</th>\n",
       "      <td>2023-01-03</td>\n",
       "    </tr>\n",
       "    <tr>\n",
       "      <th>3</th>\n",
       "      <td>2023-01-04</td>\n",
       "    </tr>\n",
       "    <tr>\n",
       "      <th>4</th>\n",
       "      <td>2023-01-05</td>\n",
       "    </tr>\n",
       "    <tr>\n",
       "      <th>5</th>\n",
       "      <td>2023-01-06</td>\n",
       "    </tr>\n",
       "    <tr>\n",
       "      <th>6</th>\n",
       "      <td>2023-01-07</td>\n",
       "    </tr>\n",
       "    <tr>\n",
       "      <th>7</th>\n",
       "      <td>2023-01-08</td>\n",
       "    </tr>\n",
       "    <tr>\n",
       "      <th>8</th>\n",
       "      <td>2023-01-09</td>\n",
       "    </tr>\n",
       "    <tr>\n",
       "      <th>9</th>\n",
       "      <td>2023-01-10</td>\n",
       "    </tr>\n",
       "    <tr>\n",
       "      <th>10</th>\n",
       "      <td>2023-01-11</td>\n",
       "    </tr>\n",
       "    <tr>\n",
       "      <th>11</th>\n",
       "      <td>2023-01-12</td>\n",
       "    </tr>\n",
       "    <tr>\n",
       "      <th>12</th>\n",
       "      <td>2023-01-13</td>\n",
       "    </tr>\n",
       "    <tr>\n",
       "      <th>13</th>\n",
       "      <td>2023-01-14</td>\n",
       "    </tr>\n",
       "    <tr>\n",
       "      <th>14</th>\n",
       "      <td>2023-01-15</td>\n",
       "    </tr>\n",
       "    <tr>\n",
       "      <th>15</th>\n",
       "      <td>2023-01-16</td>\n",
       "    </tr>\n",
       "    <tr>\n",
       "      <th>16</th>\n",
       "      <td>2023-01-17</td>\n",
       "    </tr>\n",
       "    <tr>\n",
       "      <th>17</th>\n",
       "      <td>2023-01-18</td>\n",
       "    </tr>\n",
       "    <tr>\n",
       "      <th>18</th>\n",
       "      <td>2023-01-19</td>\n",
       "    </tr>\n",
       "    <tr>\n",
       "      <th>19</th>\n",
       "      <td>2023-01-20</td>\n",
       "    </tr>\n",
       "    <tr>\n",
       "      <th>20</th>\n",
       "      <td>2023-01-21</td>\n",
       "    </tr>\n",
       "    <tr>\n",
       "      <th>21</th>\n",
       "      <td>2023-01-22</td>\n",
       "    </tr>\n",
       "    <tr>\n",
       "      <th>22</th>\n",
       "      <td>2023-01-23</td>\n",
       "    </tr>\n",
       "    <tr>\n",
       "      <th>23</th>\n",
       "      <td>2023-01-24</td>\n",
       "    </tr>\n",
       "    <tr>\n",
       "      <th>24</th>\n",
       "      <td>2023-01-25</td>\n",
       "    </tr>\n",
       "    <tr>\n",
       "      <th>25</th>\n",
       "      <td>2023-01-26</td>\n",
       "    </tr>\n",
       "    <tr>\n",
       "      <th>26</th>\n",
       "      <td>2023-01-27</td>\n",
       "    </tr>\n",
       "    <tr>\n",
       "      <th>27</th>\n",
       "      <td>2023-01-28</td>\n",
       "    </tr>\n",
       "    <tr>\n",
       "      <th>28</th>\n",
       "      <td>2023-01-29</td>\n",
       "    </tr>\n",
       "    <tr>\n",
       "      <th>29</th>\n",
       "      <td>2023-01-30</td>\n",
       "    </tr>\n",
       "    <tr>\n",
       "      <th>30</th>\n",
       "      <td>2023-01-31</td>\n",
       "    </tr>\n",
       "  </tbody>\n",
       "</table>\n",
       "</div>"
      ],
      "text/plain": [
       "         Date\n",
       "0  2023-01-01\n",
       "1  2023-01-02\n",
       "2  2023-01-03\n",
       "3  2023-01-04\n",
       "4  2023-01-05\n",
       "5  2023-01-06\n",
       "6  2023-01-07\n",
       "7  2023-01-08\n",
       "8  2023-01-09\n",
       "9  2023-01-10\n",
       "10 2023-01-11\n",
       "11 2023-01-12\n",
       "12 2023-01-13\n",
       "13 2023-01-14\n",
       "14 2023-01-15\n",
       "15 2023-01-16\n",
       "16 2023-01-17\n",
       "17 2023-01-18\n",
       "18 2023-01-19\n",
       "19 2023-01-20\n",
       "20 2023-01-21\n",
       "21 2023-01-22\n",
       "22 2023-01-23\n",
       "23 2023-01-24\n",
       "24 2023-01-25\n",
       "25 2023-01-26\n",
       "26 2023-01-27\n",
       "27 2023-01-28\n",
       "28 2023-01-29\n",
       "29 2023-01-30\n",
       "30 2023-01-31"
      ]
     },
     "execution_count": 19,
     "metadata": {},
     "output_type": "execute_result"
    }
   ],
   "source": [
    "'''Q12. Given a Pandas DataFrame df with a column 'Date' that contains timestamps, write a Python function to select all rows where the date is \n",
    "between '2023-01-01' and '2023-01-31'.'''\n",
    "\n",
    "\n",
    "df = pd.DataFrame({'Date': pd.date_range('2023-1-1', periods = 50)})\n",
    "  \n",
    "def datef(d):\n",
    "    return d[(d['Date']>'2022-12-31') & (d['Date']<'2023-2-1')]\n",
    "\n",
    "datef(df)"
   ]
  },
  {
   "cell_type": "code",
   "execution_count": 21,
   "metadata": {},
   "outputs": [
    {
     "data": {
      "text/plain": [
       "\"We import pandas library to use the basic functions of pandas. We use the code 'import pandas as pd' to import pandas where pd is \\nconverntionally used as an alias for pandas.\""
      ]
     },
     "execution_count": 21,
     "metadata": {},
     "output_type": "execute_result"
    }
   ],
   "source": [
    "'''Q13. To use the basic functions of pandas, what is the first and foremost necessary library that needs to be imported?'''\n",
    "\n",
    "\n",
    "'''We import pandas library to use the basic functions of pandas. We use the code 'import pandas as pd' to import pandas where pd is \n",
    "converntionally used as an alias for pandas.'''\n"
   ]
  }
 ],
 "metadata": {
  "kernelspec": {
   "display_name": "base",
   "language": "python",
   "name": "python3"
  },
  "language_info": {
   "codemirror_mode": {
    "name": "ipython",
    "version": 3
   },
   "file_extension": ".py",
   "mimetype": "text/x-python",
   "name": "python",
   "nbconvert_exporter": "python",
   "pygments_lexer": "ipython3",
   "version": "3.9.13"
  },
  "orig_nbformat": 4
 },
 "nbformat": 4,
 "nbformat_minor": 2
}
