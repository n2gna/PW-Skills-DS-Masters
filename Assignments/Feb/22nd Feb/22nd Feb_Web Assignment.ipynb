{
 "cells": [
  {
   "cell_type": "code",
   "execution_count": 9,
   "id": "ceeaba8b",
   "metadata": {},
   "outputs": [
    {
     "name": "stdout",
     "output_type": "stream",
     "text": [
      "{'title': \"PWSAT Is Back Again!! 🔥 || India's Biggest Scholarship Test || Watch This ⚡⚡\", 'thumbnail': 'https://i.ytimg.com/vi/o3eOj-jhhfI/hqdefault.jpg', 'link': 'https://www.youtube.com/watch?v=o3eOj-jhhfI', 'viewcount': '8.1K views', 'age': '1 day ago'}\n",
      "{'title': 'Finally The Wait is Over 🔥 || Icse Batch Coming Soon || Must Watch 🔥🔥', 'thumbnail': 'https://i.ytimg.com/vi/ecGcmstmnGA/hqdefault.jpg', 'link': 'https://www.youtube.com/watch?v=ecGcmstmnGA', 'viewcount': '19K views', 'age': '6 days ago'}\n",
      "{'title': \"Best Strategy To Start Class-9th SST || Don't Miss This Video🛑 || Complete Roadmap\", 'thumbnail': 'https://i.ytimg.com/vi/08WWij66k8A/hqdefault.jpg', 'link': 'https://www.youtube.com/watch?v=08WWij66k8A', 'viewcount': '18K views', 'age': '8 days ago'}\n",
      "{'title': 'Finally The Wait is Over🔥 || Launching Foundation Channels in 5 Different Languages 🤩', 'thumbnail': 'https://i.ytimg.com/vi/bXpeyKIVioA/hqdefault.jpg', 'link': 'https://www.youtube.com/watch?v=bXpeyKIVioA', 'viewcount': '30K views', 'age': '12 days ago'}\n",
      "{'title': 'How To Plan For Class-11th || Perfect Strategy 💯 || A Complete Roadmap!!', 'thumbnail': 'https://i.ytimg.com/vi/YwxDKs7jNXs/hqdefault.jpg', 'link': 'https://www.youtube.com/watch?v=YwxDKs7jNXs', 'viewcount': '55K views', 'age': '13 days ago'}\n",
      "{'title': 'Strategy to Crack NEET in 1st Attempt 💪💪', 'thumbnail': 'https://i.ytimg.com/vi/dVq8dLd5zK4/hqdefault.jpg', 'link': 'https://www.youtube.com/watch?v=dVq8dLd5zK4', 'viewcount': '111K views', 'age': '2 weeks ago'}\n",
      "{'title': 'How to start class 9th Maths ❓🤔 | Maths Strategy', 'thumbnail': 'https://i.ytimg.com/vi/9y6ruBLE7z0/hqdefault.jpg', 'link': 'https://www.youtube.com/watch?v=9y6ruBLE7z0', 'viewcount': '21K views', 'age': '2 weeks ago'}\n",
      "{'title': 'Ritik Sir ने Class 10th की First Class में ही, बच्चों को कड़वा सच बता दिया 🔴😱 | UDAAN 2024', 'thumbnail': 'https://i.ytimg.com/vi/yv4Gi792S8o/hqdefault.jpg', 'link': 'https://www.youtube.com/watch?v=yv4Gi792S8o', 'viewcount': '85K views', 'age': '2 weeks ago'}\n",
      "{'title': 'How to change Mindset from class 10th to 11th ❓ ❓', 'thumbnail': 'https://i.ytimg.com/vi/aPrSAvwuhTk/hqdefault.jpg', 'link': 'https://www.youtube.com/watch?v=aPrSAvwuhTk', 'viewcount': '37K views', 'age': '2 weeks ago'}\n",
      "{'title': 'Bachoo आपके क्या Plan है इस Summer Vacation ❓❓', 'thumbnail': 'https://i.ytimg.com/vi/tigMKfSBJ9E/hqdefault.jpg', 'link': 'https://www.youtube.com/watch?v=tigMKfSBJ9E', 'viewcount': '39K views', 'age': '2 weeks ago'}\n"
     ]
    }
   ],
   "source": [
    "#Q1. Write a python program to extract the video URL of the first five videos.\n",
    "#Q2. Write a python program to extract the URL of the video thumbnails of the first five videos.\n",
    "#Q3. Write a python program to extract the title of the first five videos.\n",
    "#Q4. Write a python program to extract the number of views of the first five videos.\n",
    "#Q5. Write a python program to extract the time of posting of video for the first five videos.\n",
    "#Note: Save all the data scraped in the above questions in a CSV file.\n",
    "\n",
    "\n",
    "import requests\n",
    "import re\n",
    "import pandas as pd\n",
    "\n",
    "\n",
    "\n",
    "url = \"https://www.youtube.com/@PW-Foundation/videos\"\n",
    "headers = {\"User-Agent\": \"Mozilla/5.0 (Windows NT 10.0; Win64; x64) AppleWebKit/537.36 (KHTML, like Gecko) Chrome/58.0.3029.110 Safari/537.36\"}\n",
    "\n",
    "response = requests.get(url, headers=headers)\n",
    "response_text = response.text\n",
    "\n",
    "\n",
    "vid_titles = re.findall('\"title\":{\"runs\":\\[{\"text\":\".*?\"', response_text)\n",
    "\n",
    "\n",
    "vid_thumbnails = re.findall(r\"https://i.ytimg.com/vi/[A-Za-z0-9_-]{11}/[A-Za-z0-9_]{9}.jpg\", response_text)\n",
    "\n",
    "\n",
    "vid_links = re.findall(r\"watch\\?v=[A-Za-z0-9_-]{11}\", response_text)\n",
    "\n",
    "\n",
    "pattern3 = re.compile(r\"[0-9]+(\\.[0-9]+)?[a-zA-Z]*K views\") \n",
    "\n",
    "\n",
    "pattern4 = re.compile(r\"\\d+ (minutes|hours|hour|days|day|weeks|week|years|year) ago\")\n",
    "\n",
    "matches1 = pattern3.finditer(response_text)\n",
    "matches2 = pattern4.finditer(response_text)\n",
    "\n",
    "vid_viewcounts=[]\n",
    "vid_ages=[]\n",
    "count = 0\n",
    "for match1,match2 in zip(matches1,matches2):\n",
    "\tvid_ages.append(match2[0])\n",
    "\tvid_viewcounts.append(match1[0])\n",
    "\n",
    "titles = vid_titles[0:10]\n",
    "thumbnails = list(dict.fromkeys(vid_thumbnails))\n",
    "links = vid_links[0:10]\n",
    "viewcounts=vid_viewcounts[0:20:2]\n",
    "ages=vid_ages[0:20:2]\n",
    "\n",
    "details_list=[]\n",
    "\n",
    "for title,thumbnail,link,viewcount,age in zip(titles,thumbnails,links,viewcounts,ages):\n",
    "\tdetails_dict={\n",
    "\t\"title\":title.split('\"')[-2], \"thumbnail\": thumbnail, \"link\": \"https://www.youtube.com/\"+link,\n",
    "\t\"viewcount\": viewcount, \"age\": age\n",
    "\t}\n",
    "\tdetails_list.append(details_dict)\n",
    "\tprint(details_dict)\n",
    "\n",
    "\n",
    "df = pd.DataFrame(details_list)\n",
    "df.to_csv('YTscrapData.csv', index=False)\n",
    "\n"
   ]
  },
  {
   "cell_type": "code",
   "execution_count": null,
   "id": "09eaa7af",
   "metadata": {},
   "outputs": [],
   "source": [
    "#Link to YouTube Scraper deployed on AWS:\n",
    "http://ytscraper.us-east-1.elasticbeanstalk.com/"
   ]
  }
 ],
 "metadata": {
  "kernelspec": {
   "display_name": "Python 3 (ipykernel)",
   "language": "python",
   "name": "python3"
  },
  "language_info": {
   "codemirror_mode": {
    "name": "ipython",
    "version": 3
   },
   "file_extension": ".py",
   "mimetype": "text/x-python",
   "name": "python",
   "nbconvert_exporter": "python",
   "pygments_lexer": "ipython3",
   "version": "3.9.13"
  }
 },
 "nbformat": 4,
 "nbformat_minor": 5
}
