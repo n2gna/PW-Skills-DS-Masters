{
 "cells": [
  {
   "cell_type": "code",
   "execution_count": null,
   "id": "8e993847",
   "metadata": {},
   "outputs": [],
   "source": [
    "#Q1. What is an API? Give an example, where an API is used in real life.\n",
    "'''\n",
    "API means Application Programming Interface. It offers a way to communicate between two software applications.\n",
    "For example, food delivery apps integrate Google Maps APIs with their applications. It helps them\n",
    "in using maps for food delivery.\n",
    "'''\n"
   ]
  },
  {
   "cell_type": "code",
   "execution_count": null,
   "id": "c4da179e",
   "metadata": {},
   "outputs": [],
   "source": [
    "#Q2. Give advantages and disadvantages of using API. \n",
    "'''\n",
    "Advantages of API:\n",
    "- Since they are managed by computers, productivity is more and human effort is less.\n",
    "- Developers are able to reuse code to interact with other applications.\n",
    "- Increased business value, as APIs allow services of a company to be used by others.\n",
    "\n",
    "Disadvantages of API:\n",
    "- APIs can make applications vulnerable to attacks.\n",
    "- Can be costly in terms of developing and maintaining\n",
    "- Increased complexity\n",
    "- Dependence of third party services\n",
    "'''\n"
   ]
  },
  {
   "cell_type": "code",
   "execution_count": null,
   "id": "b98dd523",
   "metadata": {},
   "outputs": [],
   "source": [
    "#Q3. What is a Web API? Differentiate between API and Web API.\n",
    "'''\n",
    "Web API means API that can be accessed over the web using HTTP protocol.\n",
    "\n",
    "APIs use TCP, SMTP or HTTP protocol and are created for communication between two applications.\n",
    "\n",
    "Web APIs use HTTP protocol and are specifically created to access applications over the web. \n",
    "'''\n"
   ]
  },
  {
   "cell_type": "code",
   "execution_count": null,
   "id": "daebd241",
   "metadata": {},
   "outputs": [],
   "source": [
    "#Q4. Explain REST and SOAP Architecture. Mention shortcomings of SOAP.\n",
    "'''\n",
    "REST architecture means Representational State Transfer. It is a set of principles to build web services\n",
    "that use HTTP protocol. They follow the principles of client-server architecture, stateless, cacheable,\n",
    "uniform interface and layered system.\n",
    "\n",
    "SOAP architecture means Simple Object Access Protocol. It uses the XML format to transfer messages and\n",
    "provides high security. \n",
    "\n",
    "Shortcomings of SOAP:\n",
    "- Higher complexity requires mroe resources and lead to slow pages.\n",
    "- Uses only XML format.\n",
    "- API calls cannot be cached.\n",
    "- Less flexibility\n",
    "'''\n"
   ]
  },
  {
   "cell_type": "code",
   "execution_count": null,
   "id": "067b7e1d",
   "metadata": {},
   "outputs": [],
   "source": [
    "#Q5. Differentiate between REST and SOAP.\n",
    "'''\n",
    "REST is an architectural style. It supports plain text, HTML, XML, JSON, YAML and others.  API calls can be cached. \n",
    "It provides less security and high flexibilty. It requires less resources.\n",
    "\n",
    "SOAP is a standardized protocol. It supports only XML. API calls cannot be cached.\tIt provides high security and\n",
    "less flexibility. It requires more bandwidth\n",
    "'''\n"
   ]
  }
 ],
 "metadata": {
  "kernelspec": {
   "display_name": "Python 3 (ipykernel)",
   "language": "python",
   "name": "python3"
  },
  "language_info": {
   "codemirror_mode": {
    "name": "ipython",
    "version": 3
   },
   "file_extension": ".py",
   "mimetype": "text/x-python",
   "name": "python",
   "nbconvert_exporter": "python",
   "pygments_lexer": "ipython3",
   "version": "3.9.13"
  }
 },
 "nbformat": 4,
 "nbformat_minor": 5
}
