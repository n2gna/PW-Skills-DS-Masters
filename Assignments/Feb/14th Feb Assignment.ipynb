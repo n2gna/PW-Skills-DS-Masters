{
 "cells": [
  {
   "cell_type": "code",
   "execution_count": null,
   "id": "c7f749a0",
   "metadata": {},
   "outputs": [],
   "source": [
    "#Q1. What is multithreading in python? Why is it used? Name the module used to handle threads in python.\n",
    "'''\n",
    "Multithreading in python runs multiple threads concurrently by switching between threads that use the same resources.\n",
    "It is used to save time and improve the performance of the program. threading module is used to handle threads\n",
    "in python.\n",
    "'''\n"
   ]
  },
  {
   "cell_type": "code",
   "execution_count": null,
   "id": "1419f067",
   "metadata": {},
   "outputs": [],
   "source": [
    "#Q2. Why threading module used? Write the use of the following functions:\n",
    "'''\n",
    "threading module is used to do multithreading which saves time and improves the performance of the program.\n",
    "\n",
    "acitveCount() function counts the threads that are active currently.\n",
    "\n",
    "currentThread() function returns the thread that is running currently.\n",
    "\n",
    "enumerate() function returns the list of currntly active threads.\n",
    "'''\n"
   ]
  },
  {
   "cell_type": "code",
   "execution_count": null,
   "id": "5a3cd2bb",
   "metadata": {},
   "outputs": [],
   "source": [
    "#Q3. Explain the following functions.\n",
    "'''\n",
    "run() function calls the target argument in the Thread object with positional and keyword arguments.\n",
    "\n",
    "start() function starts the thread's activity when called.\n",
    "\n",
    "join() function stops the execution of the main program until the thread terminates.\n",
    "\n",
    "isAlive() function checks whether a thread is alive.\n",
    "'''\n"
   ]
  },
  {
   "cell_type": "code",
   "execution_count": 8,
   "id": "091ef47b",
   "metadata": {},
   "outputs": [
    {
     "name": "stdout",
     "output_type": "stream",
     "text": [
      "The square of 1 is 1\n",
      "The square of 2 is 4\n",
      "The square of 3 is 9\n",
      "The square of 4 is 16\n",
      "The square of 5 is 25\n",
      "The cube of 1 is 1\n",
      "The cube of 2 is 8\n",
      "The cube of 3 is 27\n",
      "The cube of 4 is 64\n",
      "The cube of 5 is 125\n"
     ]
    }
   ],
   "source": [
    "#Q4. Write a python program to create two threads. Thread one must print the list of squares and thread two must print the list of cubes.\n",
    "\n",
    "import threading\n",
    "\n",
    "def square():\n",
    "    for i in range(1,6):\n",
    "        print(f'The square of {i} is {i*i}')\n",
    "        \n",
    "def cube():\n",
    "    for i in range(1,6):\n",
    "        print(f'The cube of {i} is {i*i*i}')\n",
    "            \n",
    "t1 = threading.Thread(target = square)\n",
    "t2 = threading.Thread(target = cube)\n",
    "\n",
    "t1.start()\n",
    "t2.start()\n"
   ]
  },
  {
   "cell_type": "code",
   "execution_count": 9,
   "id": "c2bf9d20",
   "metadata": {},
   "outputs": [
    {
     "data": {
      "text/plain": [
       "'\\nAdvantages:\\n- Multithreading allows efficient use of resources.\\n- It enables concurrent execution of events.\\n- It reduces the execution time and improves performance of the program.\\n\\nDisadvantages:\\n- Increased complexity in writing a program.\\n- Debugging and testing can become difficult.\\n- Context switching overhead.\\n- Increased chance of deadlock occurrence.\\n'"
      ]
     },
     "execution_count": 9,
     "metadata": {},
     "output_type": "execute_result"
    }
   ],
   "source": [
    "#Q5. State advantages and disadvantages of multithreading.\n",
    "'''\n",
    "Advantages:\n",
    "- Multithreading allows efficient use of resources.\n",
    "- It enables concurrent execution of events.\n",
    "- It reduces the execution time and improves performance of the program.\n",
    "\n",
    "Disadvantages:\n",
    "- Increased complexity in writing a program.\n",
    "- Debugging and testing can become difficult.\n",
    "- Context switching overhead.\n",
    "- Increased chance of deadlock occurrence.\n",
    "'''\n"
   ]
  },
  {
   "cell_type": "code",
   "execution_count": 10,
   "id": "e1e312c2",
   "metadata": {},
   "outputs": [
    {
     "data": {
      "text/plain": [
       "'\\nA deadlock is a condition in which the threads wait for conditions that never occur. As a result,\\nthread do not proceed further as they are stuck and need to be terminated forcefully.\\n\\nA race condition occurs when more than one thread try to access a shared variable at the same time.\\n'"
      ]
     },
     "execution_count": 10,
     "metadata": {},
     "output_type": "execute_result"
    }
   ],
   "source": [
    "#Q6. Explain deadlocks and race conditions.\n",
    "'''\n",
    "A deadlock is a condition in which the threads wait for conditions that never occur. As a result,\n",
    "thread do not proceed further as they are stuck and need to be terminated forcefully.\n",
    "\n",
    "A race condition occurs when more than one thread try to access a shared variable at the same time.\n",
    "'''\n"
   ]
  }
 ],
 "metadata": {
  "kernelspec": {
   "display_name": "Python 3 (ipykernel)",
   "language": "python",
   "name": "python3"
  },
  "language_info": {
   "codemirror_mode": {
    "name": "ipython",
    "version": 3
   },
   "file_extension": ".py",
   "mimetype": "text/x-python",
   "name": "python",
   "nbconvert_exporter": "python",
   "pygments_lexer": "ipython3",
   "version": "3.9.13"
  }
 },
 "nbformat": 4,
 "nbformat_minor": 5
}
