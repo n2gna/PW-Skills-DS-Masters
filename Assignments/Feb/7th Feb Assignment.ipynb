{
 "cells": [
  {
   "cell_type": "code",
   "execution_count": 68,
   "id": "c317c069",
   "metadata": {
    "scrolled": true
   },
   "outputs": [
    {
     "name": "stdout",
     "output_type": "stream",
     "text": [
      "Please enter your password JK jk5())#\n",
      "Valid Password\n"
     ]
    }
   ],
   "source": [
    "'''Q1. You are writing code for a company. The requirement of the company is that you create a python function that will check whether the password \n",
    "entered by the user is correct or not. The function should take the password as input and return the string “Valid Password” if the entered password\n",
    "follows the below-given password guidelines else it should return “Invalid Password”.\n",
    "\n",
    "Note: \n",
    "1. The Password should contain at least two uppercase letters and at least two lowercase letters.\n",
    "2. The Password should contain at least a number and three special characters.\n",
    "3. The length of the password should be 10 characters long.'''\n",
    "\n",
    "\n",
    "\n",
    "password = input('Please enter your password ')\n",
    "\n",
    "def val(x):\n",
    "    \n",
    "    def spec_chr(s):\n",
    "        for c in s:\n",
    "            if not (c.isalpha() or c.isnumeric() or c.isspace()):\n",
    "                return True\n",
    "        return False\n",
    "    \n",
    "    if len(x) < 10:\n",
    "        return print('Invalid Password')\n",
    "    else:\n",
    "        upletter = 0\n",
    "        lowletter = 0\n",
    "        num = 0\n",
    "        char = 0\n",
    "        \n",
    "        for i in x:\n",
    "            if i.isupper(): upletter += 1\n",
    "            elif i.islower(): lowletter += 1\n",
    "            elif i.isdigit(): num += 1\n",
    "            elif spec_chr(i): char += 1\n",
    "        \n",
    "        if (upletter >= 2 and lowletter >=2 and num >= 1 and char >= 3):\n",
    "            return print('Valid Password')\n",
    "        else:\n",
    "            return print('Invalid Password')\n",
    "\n",
    "val(password)"
   ]
  },
  {
   "cell_type": "code",
   "execution_count": 66,
   "id": "0fc95fcd",
   "metadata": {},
   "outputs": [
    {
     "data": {
      "text/plain": [
       "True"
      ]
     },
     "execution_count": 66,
     "metadata": {},
     "output_type": "execute_result"
    }
   ],
   "source": [
    "#Q2. Solve the below-given questions using at least one of the following: \n",
    "\n",
    "#Check if the string starts with a particular letter.\n",
    "\n",
    "x = 'apple'\n",
    "\n",
    "start = lambda x,y : x.startswith(y)\n",
    "\n",
    "start(x,'a')"
   ]
  },
  {
   "cell_type": "code",
   "execution_count": 69,
   "id": "50cfaeed",
   "metadata": {},
   "outputs": [
    {
     "name": "stdout",
     "output_type": "stream",
     "text": [
      "True\n"
     ]
    }
   ],
   "source": [
    "# Check if the string is numeric.\n",
    "x = '56'\n",
    "\n",
    "num = lambda x : x.isnumeric() \n",
    "print(num(x))"
   ]
  },
  {
   "cell_type": "code",
   "execution_count": 45,
   "id": "5e8dc26e",
   "metadata": {},
   "outputs": [
    {
     "name": "stdout",
     "output_type": "stream",
     "text": [
      "[('orange', 80), ('mango', 99), ('grapes', 1000)]\n"
     ]
    }
   ],
   "source": [
    "#Sort a list of tuples having fruit names and their quantity.\n",
    "\n",
    "l = [(\"mango\",99),(\"orange\",80), (\"grapes\", 1000)]\n",
    "l.sort(key = lambda x : x[1])\n",
    "print(l)"
   ]
  },
  {
   "cell_type": "code",
   "execution_count": 32,
   "id": "a115ddd5",
   "metadata": {},
   "outputs": [
    {
     "name": "stdout",
     "output_type": "stream",
     "text": [
      "[1, 4, 9, 16, 25, 36, 49, 64, 81, 100] \n",
      "\n",
      "[1.0, 1.2599210498948732, 1.4422495703074083, 1.5874010519681994, 1.7099759466766968, 1.8171205928321397, 1.912931182772389, 2.0, 2.080083823051904, 2.154434690031884] \n",
      "\n",
      "True \n",
      "\n",
      "[1, 3, 5, 7, 9] \n",
      "\n"
     ]
    }
   ],
   "source": [
    "#Find the squares of numbers from 1 to 10.\n",
    "l1 = list(map(lambda x : x**2, list(range(1,11))))\n",
    "print(l1,'\\n')\n",
    "\n",
    "#Find the cube root of numbers from 1 to 10.\n",
    "l2 = list(map(lambda x : x**(1/3), list(range(1,11))))\n",
    "print(l2,'\\n')\n",
    "\n",
    "#Check if a given number is even.\n",
    "even = lambda x : x%2 == 0\n",
    "print(even(22),'\\n')\n",
    "\n",
    "#Filter odd numbers from the given list.\n",
    "l3 = [1,2,3,4,5,6,7,8,9,10]\n",
    "print(list(filter(lambda x : x%2 != 0, l3)),'\\n')"
   ]
  },
  {
   "cell_type": "code",
   "execution_count": 33,
   "id": "ee69c04f",
   "metadata": {},
   "outputs": [
    {
     "name": "stdout",
     "output_type": "stream",
     "text": [
      "[1, 2, 3, 4, 5, 6, 0]\n",
      "[-1, -2, -3, -4, -5]\n"
     ]
    }
   ],
   "source": [
    "# Sort a list of integers into positive and negative integers lists.\n",
    "\n",
    "l = [1,2,3,4,5,6,-1,-2,-3,-4,-5,0]\n",
    "pos = []\n",
    "neg = []\n",
    "\n",
    "for i in l:\n",
    "    if i>=0:\n",
    "        pos.append(i)\n",
    "    else:\n",
    "        neg.append(i)\n",
    "        \n",
    "print(pos)\n",
    "print(neg)"
   ]
  }
 ],
 "metadata": {
  "kernelspec": {
   "display_name": "Python 3 (ipykernel)",
   "language": "python",
   "name": "python3"
  },
  "language_info": {
   "codemirror_mode": {
    "name": "ipython",
    "version": 3
   },
   "file_extension": ".py",
   "mimetype": "text/x-python",
   "name": "python",
   "nbconvert_exporter": "python",
   "pygments_lexer": "ipython3",
   "version": "3.9.13"
  }
 },
 "nbformat": 4,
 "nbformat_minor": 5
}
