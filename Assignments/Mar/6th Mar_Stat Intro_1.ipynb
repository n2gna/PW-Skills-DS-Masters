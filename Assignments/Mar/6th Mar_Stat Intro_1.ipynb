{
 "cells": [
  {
   "cell_type": "code",
   "execution_count": null,
   "metadata": {},
   "outputs": [],
   "source": [
    "#Q1. What is Statistics?\n",
    "\n",
    "'''Statistics is the science of collecting, organizing and analysing data, especially for the purpose of inferring proportions in a whole\n",
    "from those in a representative sample.'''\n"
   ]
  },
  {
   "cell_type": "code",
   "execution_count": null,
   "metadata": {},
   "outputs": [],
   "source": [
    "#Q2. Define the different types of statistics and give an example of when each type might be used.\n",
    "\n",
    "'''Different types of statistics are:\n",
    "\n",
    "(1) Descriptive statistics: \n",
    "It involves organizing and summarizing data. Descriptive statistics are used to describe the basic features of the data in a study.\n",
    "They provide simple summaries about the sample with the use of measures of central tendency, dispersion and graphs.\n",
    "Example: It is used when we want to know the average height of students in a college.\n",
    "\n",
    "(2) Inferential statistics:\n",
    "It involves interpreting the meaning of the descriptive statistics. It is used to form conclusions and understand the larger population \n",
    "from which the sample is taken.\n",
    "Example: It is used when we want to know if the average height of people in a state reflects the average height of the country.\n",
    "\n",
    "'''\n"
   ]
  },
  {
   "cell_type": "code",
   "execution_count": null,
   "metadata": {},
   "outputs": [],
   "source": [
    "#Q3.  What are the different types of data and how do they differ from each other? Provide an example of each type of data.\n",
    "\n",
    "'''Different types of data are:\n",
    "\n",
    "(1) Quantitative data:\n",
    "It is data that can be counted or measured in numerical values. It is further divided into:\n",
    "(a) Discrete data: It refers to countable, individualized, and nondivisible figures in statistics. These data points exist only in set increments.\n",
    "Example: Number of employees in a factory\n",
    "\n",
    "(b) Continuous data: It refers to data that can take any value.\n",
    "Example: Height of a building\n",
    "\n",
    "(2)Qualitative data:\n",
    "It is descriptive, conceptual and non-numerical in nature. It is further divided into:\n",
    "(a) Nominal data: They are categorical data and the values grouped into these categories have no meaningful order. \n",
    "Example: Marital status - Married, Single, Widowed\n",
    "\n",
    "(b) Ordinal data: These are non-numerical data that can be ranked.\n",
    "Example: The first, second and third person in a competition\n",
    "\n",
    "'''\n",
    "\n"
   ]
  },
  {
   "cell_type": "code",
   "execution_count": null,
   "metadata": {},
   "outputs": [],
   "source": [
    "#Q4. Categorise the following datasets with respect to quantitative and qualitative data types:\n",
    "\n",
    "#(i) Grading in exam: A+, A, B+, B, C+, C, D, E:\n",
    "'''Qualitative ordinal data'''\n",
    "\n",
    "#(ii) Colour of mangoes: yellow, green, orange, red:\n",
    "'''Qualitative nominal data'''\n",
    "\n",
    "#(iii) Height data of a class: [178.9, 179, 179.5, 176, 177.2, 178.3, 175.8,...]:\n",
    "'''Quantitative continuous data'''\n",
    "\n",
    "#(iv) Number of mangoes exported by a farm: [500, 600, 478, 672, …]:\n",
    "'''Quantitative discrete data'''\n"
   ]
  },
  {
   "cell_type": "code",
   "execution_count": null,
   "metadata": {},
   "outputs": [],
   "source": [
    "#Q5. Explain the concept of levels of measurement and give an example of a variable for each level.\n",
    "\n",
    "'''The level of measurement expresses how quantifiable a value actually is, i.e., to what extent we can apply mathematical operations.\n",
    "\n",
    "Nominal: the data can only be categorized.\n",
    "Example: Marital status\n",
    "\n",
    "Ordinal: the data can be categorized and ranked.\n",
    "Example: The first, second and third person in a competition\n",
    "\n",
    "Interval: the data can be categorized, ranked, and difference can be measured but has no natural zero.\n",
    "Example: Test scores\n",
    "\n",
    "Ratio: the data can be categorized, ranked, evenly spaced, and has natural zero.\n",
    "Example: Weight\n",
    "\n",
    "'''"
   ]
  },
  {
   "cell_type": "code",
   "execution_count": null,
   "metadata": {},
   "outputs": [],
   "source": [
    "#Q6. Why is it important to understand the level of measurement when analyzing data? Provide an example to illustrate your answer.\n",
    "\n",
    "'''First, knowing the level of measurement helps to decide how to interpret the data from a variable. Second, knowing the level of\n",
    "measurement helps to decide what statistical analysis is appropriate on the values that were assigned.  For example, if a measure is nominal,\n",
    "then we know that we cannot average the data values.'''\n"
   ]
  },
  {
   "cell_type": "code",
   "execution_count": null,
   "metadata": {},
   "outputs": [],
   "source": [
    "#Q7. How nominal data type is different from ordinal data type.\n",
    "\n",
    "'''Both nominal and ordinal are non numerical data. But while ordinal data can be ranked, nominal data cannot be ranked.\n",
    "Example of nominal data is marital status.\n",
    "Example of oridnal data is economic status.\n",
    "'''\n"
   ]
  },
  {
   "cell_type": "code",
   "execution_count": null,
   "metadata": {},
   "outputs": [],
   "source": [
    "#Q8. Which type of plot can be used to display data in terms of range?\n",
    "'''Histograms and box plots can be used to display data in terms of range'''\n"
   ]
  },
  {
   "cell_type": "code",
   "execution_count": null,
   "metadata": {},
   "outputs": [],
   "source": [
    "# Q9. Describe the difference between descriptive and inferential statistics. Give an example of each  type of statistics and explain how \n",
    "# they are used.\n",
    "\n",
    "\n",
    "'''(1) Descriptive statistics: \n",
    "It involves organizing and summarizing data. Descriptive statistics are used to describe the basic features of the data in a study.\n",
    "They provide simple summaries about the sample with the use of measures of central tendency, dispersion and graphs.\n",
    "Example: It is used when we want to know the average height of students in a college.\n",
    "\n",
    "(2) Inferential statistics:\n",
    "It involves interpreting the meaning of the descriptive statistics. It is used to form conclusions and understand the larger population \n",
    "from which the sample is taken with the use of hypothesis testing and regression analysis.\n",
    "Example: It is used when we want to know if the average height of people in a state reflects the average height of the country.\n",
    "'''"
   ]
  },
  {
   "cell_type": "code",
   "execution_count": null,
   "metadata": {},
   "outputs": [],
   "source": [
    "#Q10. What are some common measures of central tendency and variability used in statistics? Explain how each measure can be used to describe\n",
    "# a dataset.\n",
    "\n",
    "'''Measures of central tendency:\n",
    "(1) Mean - it is the average of the data set.\n",
    "(2) Median - it is the middle of the data set when it is ordered from least to greatest.\n",
    "(3) Mode - it is the number that occurs most often in a data set. \n",
    "\n",
    "Measures of variability:\n",
    "(1) Range: the difference between the highest and lowest values.\n",
    "(2) Interquartile range: the range of the middle half of a distribution.\n",
    "(3) Standard deviation: average distance from the mean.\n",
    "(4) Variance: average of squared distances from the mean.\n",
    "\n",
    "'''\n"
   ]
  }
 ],
 "metadata": {
  "language_info": {
   "name": "python"
  },
  "orig_nbformat": 4
 },
 "nbformat": 4,
 "nbformat_minor": 2
}
