{
 "cells": [
  {
   "cell_type": "code",
   "execution_count": 5,
   "id": "3a772fe8",
   "metadata": {
    "scrolled": true
   },
   "outputs": [
    {
     "data": {
      "text/plain": [
       "'Tuples are ordered, indexed, and immutable.'"
      ]
     },
     "execution_count": 5,
     "metadata": {},
     "output_type": "execute_result"
    }
   ],
   "source": [
    "#Q1. What are the characteristics of the tuples? Is tuple immutable?\n",
    "'Tuples are ordered, indexed, and immutable.'"
   ]
  },
  {
   "cell_type": "code",
   "execution_count": 1,
   "id": "5438662b",
   "metadata": {},
   "outputs": [
    {
     "name": "stdout",
     "output_type": "stream",
     "text": [
      "2\n",
      "3\n"
     ]
    }
   ],
   "source": [
    "#Q2. What are the two tuple methods in python? Give an example of each method. Give a reason why tuples have only two in-built methods as compared to Lists.\n",
    "\n",
    "'The 2 tuple methods are count and index. Tuples have only 2 methods as they are immutable unlike lists. So, methods that can modify lists are not available for tuples.'\n",
    "\n",
    "lst = (2,4,6,8,10,6,12,6)\n",
    "#index finds the first index of the given value\n",
    "print(lst.index(6))\n",
    "#count gives the number of occurrences of the given value.\n",
    "print(lst.count(6))\n",
    "\n"
   ]
  },
  {
   "cell_type": "code",
   "execution_count": 19,
   "id": "35533c22",
   "metadata": {},
   "outputs": [
    {
     "name": "stdout",
     "output_type": "stream",
     "text": [
      "{1, 2, 3, 4}\n"
     ]
    }
   ],
   "source": [
    "#Q3.  Which collection datatypes in python do not allow duplicate items? Write a code using a set to remove duplicates from the given list.\n",
    "\n",
    "'Sets do not allow duplicate items in Python.'\n",
    "\n",
    "List = [1, 1, 1, 2, 1, 3, 1, 4, 2, 1, 2, 2, 2, 3, 2, 4, 3, 1, 3, 2, 3, 3, 3, 4, 4, 1, 4, 2, 4, 3, 4, 4]\n",
    "\n",
    "Set = set(List)\n",
    "print(Set)"
   ]
  },
  {
   "cell_type": "code",
   "execution_count": 45,
   "id": "38db14ea",
   "metadata": {},
   "outputs": [
    {
     "name": "stdout",
     "output_type": "stream",
     "text": [
      "{0, 65, 2, 4, 6, 44, 13, 'a', 'c', 'd', 89, 'b'}\n",
      "{'ball', 'table', 'cat', 'apple', 'dog'}\n"
     ]
    }
   ],
   "source": [
    "#Q4. Explain the difference between the union() and update() methods for a set. Give an example of each method.\n",
    "\n",
    "'union() returns the union set of all sets given as input along with the original set'\n",
    "st1 = {0,2,4,6,}\n",
    "st2 = {65,13,89,44}\n",
    "st3 = {'a','b','c','d'}\n",
    "\n",
    "print(st1.union(st2,st3))\n",
    "\n",
    "'update() adds the items from the sets given as input to the original set'\n",
    "a = {'apple', 'ball', 'table'}\n",
    "b = {'dog', 'cat', 'ball'}\n",
    "\n",
    "a.update(b)\n",
    "\n",
    "print(a)\n"
   ]
  },
  {
   "cell_type": "code",
   "execution_count": 5,
   "id": "4cf0a754",
   "metadata": {},
   "outputs": [
    {
     "name": "stdout",
     "output_type": "stream",
     "text": [
      "{'name': 'Jack', 'age': 33, 'place': 'USA'}\n"
     ]
    }
   ],
   "source": [
    "#Q5. What is a dictionary? Give an example. Also, state whether a dictionary is ordered or unordered.\n",
    "\n",
    "'Dictionary is a collection of keys and values where each value is mapped to its respective key. Dictionaries are ordered after the latest Python version 3.7'\n",
    "\n",
    "info = {'name':'Jack', 'age':33, 'place':'USA'}\n",
    "\n",
    "print(info)"
   ]
  },
  {
   "cell_type": "code",
   "execution_count": 47,
   "id": "f47aa0d8",
   "metadata": {},
   "outputs": [
    {
     "name": "stdout",
     "output_type": "stream",
     "text": [
      "{'John': {'age': 35, 'place': 'New York'}}\n",
      "New York\n"
     ]
    }
   ],
   "source": [
    "#Q6. Can we create a nested dictionary? If so, please give an example by creating a simple one-level nested dictionary\n",
    "\n",
    "'Yes, we can create nested dictionary'\n",
    "\n",
    "worker = {'John':{'age':35,'place':'New York'}}\n",
    "\n",
    "print(worker)\n",
    "print(worker['John']['place'])\n"
   ]
  },
  {
   "cell_type": "code",
   "execution_count": 43,
   "id": "485d417b",
   "metadata": {},
   "outputs": [
    {
     "name": "stdout",
     "output_type": "stream",
     "text": [
      "{'language': 'Python', 'course': 'Data Science Masters', 'topics': ['Python', 'Machine Learning', 'Deep Learning']}\n"
     ]
    }
   ],
   "source": [
    "#Q7. Using setdefault() method, create key named topics in the given dictionary and also add the value of the key as this list ['Python', 'Machine Learning’, 'Deep Learning']\n",
    "\n",
    "dict1 = {'language' : 'Python', 'course': 'Data Science Masters'}\n",
    "\n",
    "dict1.setdefault('topics', ['Python', 'Machine Learning', 'Deep Learning'])\n",
    "                            \n",
    "print(dict1)"
   ]
  },
  {
   "cell_type": "code",
   "execution_count": 17,
   "id": "00a44890",
   "metadata": {},
   "outputs": [
    {
     "name": "stdout",
     "output_type": "stream",
     "text": [
      "dict_keys(['Sport', 'Teams']) \n",
      "\n",
      "dict_values(['Cricket', ['India', 'Australia', 'England', 'South Africa', 'Sri Lanka', 'New Zealand']]) \n",
      "\n",
      "dict_items([('Sport', 'Cricket'), ('Teams', ['India', 'Australia', 'England', 'South Africa', 'Sri Lanka', 'New Zealand'])]) \n",
      "\n"
     ]
    }
   ],
   "source": [
    "#Q8. What are the three view objects in dictionaries? Use the three in-built methods in python to display these three view objects for the given dictionary.\n",
    "\n",
    "'The three view objects in dictionaries are keys, values and items.'\n",
    "\n",
    "dict1 = {'Sport': 'Cricket' , 'Teams': ['India', 'Australia', 'England', 'South Africa', 'Sri Lanka', 'New Zealand']}\n",
    "\n",
    "#keys\n",
    "print(dict1.keys(),'\\n')\n",
    "\n",
    "#values\n",
    "print(dict1.values(),'\\n')\n",
    "\n",
    "#items\n",
    "print(dict1.items(),'\\n')"
   ]
  }
 ],
 "metadata": {
  "kernelspec": {
   "display_name": "Python 3 (ipykernel)",
   "language": "python",
   "name": "python3"
  },
  "language_info": {
   "codemirror_mode": {
    "name": "ipython",
    "version": 3
   },
   "file_extension": ".py",
   "mimetype": "text/x-python",
   "name": "python",
   "nbconvert_exporter": "python",
   "pygments_lexer": "ipython3",
   "version": "3.9.13"
  }
 },
 "nbformat": 4,
 "nbformat_minor": 5
}
